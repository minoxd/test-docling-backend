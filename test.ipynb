{
 "cells": [
  {
   "metadata": {
    "ExecuteTime": {
     "end_time": "2025-08-05T04:30:49.097388Z",
     "start_time": "2025-08-05T04:30:37.812979Z"
    }
   },
   "cell_type": "code",
   "source": [
    "import pprint\n",
    "\n",
    "import requests\n",
    "from bs4 import BeautifulSoup\n",
    "from bs4.element import NavigableString\n",
    "from docling.datamodel.base_models import InputFormat\n",
    "from docling.datamodel.pipeline_options import PdfPipelineOptions\n",
    "from docling.document_converter import DocumentConverter, PdfFormatOption\n",
    "from docling_core.transforms.chunker.hybrid_chunker import HybridChunker\n",
    "from docling_core.types import DoclingDocument\n",
    "from docling_core.types.doc import ImageRefMode, ContentLayer, GroupItem, TextItem, DocItem\n",
    "from dotenv import dotenv_values"
   ],
   "id": "560ccffc5d6cc77",
   "outputs": [
    {
     "name": "stderr",
     "output_type": "stream",
     "text": [
      "D:\\Documents\\DSC\\FPL\\AICHATBOT\\test-docling-backend\\.venv\\Lib\\site-packages\\tqdm\\auto.py:21: TqdmWarning: IProgress not found. Please update jupyter and ipywidgets. See https://ipywidgets.readthedocs.io/en/stable/user_install.html\n",
      "  from .autonotebook import tqdm as notebook_tqdm\n"
     ]
    }
   ],
   "execution_count": 1
  },
  {
   "metadata": {
    "ExecuteTime": {
     "end_time": "2025-08-05T04:30:49.351166Z",
     "start_time": "2025-08-05T04:30:49.341704Z"
    }
   },
   "cell_type": "code",
   "source": [
    "pipeline_options = PdfPipelineOptions(\n",
    "    generate_picture_images=True,  # Generate base64-encoded images\n",
    "    # do_picture_classification=True,  # Classify images (optional, but aligns with CLI)\n",
    "    images_scale=3.0,\n",
    ")\n",
    "\n",
    "# source = \"D:/App/IDM Downloads/Documents/image-based-pdf-sample.pdf\"\n",
    "source = \"Flower-Parts-Diagrams.pdf\"\n",
    "# source = \"https://arxiv.org/pdf/2408.09869\"\n",
    "\n",
    "converter = DocumentConverter(\n",
    "    format_options={\n",
    "        InputFormat.PDF: PdfFormatOption(pipeline_options=pipeline_options)\n",
    "    }\n",
    ")"
   ],
   "id": "2ccf5cfee602b878",
   "outputs": [],
   "execution_count": 2
  },
  {
   "metadata": {
    "ExecuteTime": {
     "end_time": "2025-08-05T04:31:33.663607Z",
     "start_time": "2025-08-05T04:30:49.376936Z"
    }
   },
   "cell_type": "code",
   "source": [
    "%%time\n",
    "result = converter.convert(source)"
   ],
   "id": "d8a761a189b56260",
   "outputs": [
    {
     "name": "stderr",
     "output_type": "stream",
     "text": [
      "D:\\Documents\\DSC\\FPL\\AICHATBOT\\test-docling-backend\\.venv\\Lib\\site-packages\\torch\\utils\\data\\dataloader.py:665: UserWarning: 'pin_memory' argument is set as true but no accelerator is found, then device pinned memory won't be used.\n",
      "  warnings.warn(warn_msg)\n",
      "D:\\Documents\\DSC\\FPL\\AICHATBOT\\test-docling-backend\\.venv\\Lib\\site-packages\\torch\\utils\\data\\dataloader.py:665: UserWarning: 'pin_memory' argument is set as true but no accelerator is found, then device pinned memory won't be used.\n",
      "  warnings.warn(warn_msg)\n"
     ]
    },
    {
     "name": "stdout",
     "output_type": "stream",
     "text": [
      "CPU times: total: 13.9 s\n",
      "Wall time: 44.2 s\n"
     ]
    }
   ],
   "execution_count": 3
  },
  {
   "metadata": {
    "ExecuteTime": {
     "end_time": "2025-08-05T04:31:35.452581Z",
     "start_time": "2025-08-05T04:31:33.953146Z"
    }
   },
   "cell_type": "code",
   "source": "chunker = HybridChunker()",
   "id": "5947fa7c6c228e75",
   "outputs": [],
   "execution_count": 4
  },
  {
   "metadata": {
    "ExecuteTime": {
     "end_time": "2025-08-05T04:31:35.663748Z",
     "start_time": "2025-08-05T04:31:35.591573Z"
    }
   },
   "cell_type": "code",
   "source": [
    "chunk_iter = chunker.chunk(result.document)\n",
    "chunks = list(chunk_iter)"
   ],
   "id": "562a94733ffe66c3",
   "outputs": [],
   "execution_count": 5
  },
  {
   "metadata": {
    "ExecuteTime": {
     "end_time": "2025-08-05T04:31:35.845943Z",
     "start_time": "2025-08-05T04:31:35.817506Z"
    }
   },
   "cell_type": "code",
   "source": [
    "chunks_headings = []\n",
    "for chunk in chunks:\n",
    "    headings = chunk.export_json_dict()['meta']['headings']\n",
    "    if len(headings) != 1:\n",
    "        raise Exception(f'eyyo length of headings is {len(headings)}')\n",
    "    chunks_headings.append(headings[0])\n",
    "chunks_headings"
   ],
   "id": "fe8d0d5485306f91",
   "outputs": [
    {
     "data": {
      "text/plain": [
       "['Parts of a Simple Flower',\n",
       " 'Definitions:',\n",
       " 'Parts of a Composite Flower',\n",
       " 'Notes:']"
      ]
     },
     "execution_count": 6,
     "metadata": {},
     "output_type": "execute_result"
    }
   ],
   "execution_count": 6
  },
  {
   "metadata": {
    "ExecuteTime": {
     "end_time": "2025-08-05T04:31:37.083279Z",
     "start_time": "2025-08-05T04:31:35.992180Z"
    }
   },
   "cell_type": "code",
   "source": [
    "def save_as_files(name: str, image_mode: ImageRefMode):\n",
    "    result.document.save_as_html(f'{name}.html', image_mode=image_mode)\n",
    "    result.document.save_as_markdown(f'{name}.md', image_mode=image_mode)\n",
    "    result.document.save_as_json(f'{name}.json', image_mode=image_mode)\n",
    "\n",
    "save_as_files('raw', ImageRefMode.REFERENCED)"
   ],
   "id": "33a5884a4ed72991",
   "outputs": [],
   "execution_count": 7
  },
  {
   "metadata": {
    "ExecuteTime": {
     "end_time": "2025-08-05T04:31:37.242355Z",
     "start_time": "2025-08-05T04:31:37.195239Z"
    }
   },
   "cell_type": "code",
   "source": [
    "with open('raw.html', encoding='utf-8') as f:\n",
    "    soup = BeautifulSoup(f)"
   ],
   "id": "9e38e6f8ff15c24e",
   "outputs": [],
   "execution_count": 8
  },
  {
   "metadata": {
    "ExecuteTime": {
     "end_time": "2025-08-05T04:31:37.370632Z",
     "start_time": "2025-08-05T04:31:37.365676Z"
    }
   },
   "cell_type": "code",
   "source": "type(list(soup.body.children)[0])",
   "id": "df0e3535181840ff",
   "outputs": [
    {
     "data": {
      "text/plain": [
       "bs4.element.NavigableString"
      ]
     },
     "execution_count": 9,
     "metadata": {},
     "output_type": "execute_result"
    }
   ],
   "execution_count": 9
  },
  {
   "metadata": {
    "ExecuteTime": {
     "end_time": "2025-08-05T04:31:37.541411Z",
     "start_time": "2025-08-05T04:31:37.529737Z"
    }
   },
   "cell_type": "code",
   "source": [
    "children_of_body = list(soup.body.children)\n",
    "if len(children_of_body) == 3 and children_of_body[0] == '\\n' and children_of_body[2] == '\\n' and isinstance(children_of_body[0], NavigableString) and isinstance(children_of_body[2], NavigableString):\n",
    "    print(True)\n",
    "    children_of_body = children_of_body[1]\n",
    "children_of_body = list(children_of_body.children)\n",
    "children_of_body = [child for idx, child in enumerate(children_of_body) if not (children_of_body[idx] == '\\n' and isinstance(children_of_body[idx], NavigableString))]\n",
    "children_of_body"
   ],
   "id": "c98c9a3649a981fb",
   "outputs": [
    {
     "name": "stdout",
     "output_type": "stream",
     "text": [
      "True\n"
     ]
    },
    {
     "data": {
      "text/plain": [
       "[<h2>Parts of a Simple Flower</h2>,\n",
       " <p>Wild Geranium, Geranium maculatum</p>,\n",
       " <figure><img src=\"raw_artifacts%5Cimage_000000_661e1bf93aedc8c56f2bf4146c3654d628feeae6f38d3991d268d67780835183.png\"/></figure>,\n",
       " <h2>Definitions:</h2>,\n",
       " <ul>\n",
       " <li>Sepals -The outermost part of the flower, often green but sometimes looking like petals, that usually enclose the flower bud before it opens.</li>\n",
       " <li>Petals - The inner ring of the flower that tend to be brightly colored and often function to attract pollinators.</li>\n",
       " <li>Stamen - The male part of the flower that serves to produce pollen; it is composed of the pollen-bearing anther and the stalk-like filament.</li>\n",
       " <li>Pistil The female part of the flower that typically consists of the stigma at the top which receives the pollen, the narrow style , and the ovary which contains ovules that will later develop into seeds.</li>\n",
       " </ul>,\n",
       " <h2>Parts of a Composite Flower</h2>,\n",
       " <p>Green and Gold, Chrysogonum virginianum</p>,\n",
       " <figure><img src=\"raw_artifacts%5Cimage_000001_f8a9d12fc9e4159f4588e9bcdfc2967d14b2cb5869b30f1bb69739417d53f5f1.png\"/></figure>,\n",
       " <h2>Notes:</h2>,\n",
       " <p>Composite flowers can be made of all ray flowers that look like the petals of a 'normal' flower (e.g. dandelions), all small knobby disk flowers (e.g. thistles), or both types (like this one, Green and Gold). The single petal on a ray flower is called a ligule . On both ray and disk flowers, the pollen-producing anthers are typically fused together into a tube; on a disk flower, the petals are also typically fused. The pistil , commonly with two curling lobes, emerges as each disk or ray flower matures. In Green and Gold, the ray flowers are lacking stamens (pistillate).</p>]"
      ]
     },
     "execution_count": 10,
     "metadata": {},
     "output_type": "execute_result"
    }
   ],
   "execution_count": 10
  },
  {
   "metadata": {
    "ExecuteTime": {
     "end_time": "2025-08-05T04:31:37.704802Z",
     "start_time": "2025-08-05T04:31:37.697808Z"
    }
   },
   "cell_type": "code",
   "source": [
    "indexes_chunk_begin = []\n",
    "for idx, child in enumerate(children_of_body):\n",
    "    if child.string in chunks_headings:\n",
    "        indexes_chunk_begin.append(idx)\n",
    "indexes_chunk_begin.append(len(children_of_body))\n",
    "indexes_chunk_begin"
   ],
   "id": "bebfd7ce4c88cef0",
   "outputs": [
    {
     "data": {
      "text/plain": [
       "[0, 3, 5, 8, 10]"
      ]
     },
     "execution_count": 11,
     "metadata": {},
     "output_type": "execute_result"
    }
   ],
   "execution_count": 11
  },
  {
   "metadata": {
    "ExecuteTime": {
     "end_time": "2025-08-05T04:31:37.889609Z",
     "start_time": "2025-08-05T04:31:37.865905Z"
    }
   },
   "cell_type": "code",
   "source": "config = dotenv_values()",
   "id": "56e67e3ebd46b289",
   "outputs": [],
   "execution_count": 12
  },
  {
   "metadata": {
    "ExecuteTime": {
     "end_time": "2025-08-05T04:33:07.752468Z",
     "start_time": "2025-08-05T04:33:07.746099Z"
    }
   },
   "cell_type": "code",
   "source": "config['IMGBB_API_KEY']",
   "id": "c114d47df9c7f88e",
   "outputs": [
    {
     "data": {
      "text/plain": [
       "'36217e38ccd1828140e5ed0c24d98759'"
      ]
     },
     "execution_count": 13,
     "metadata": {},
     "output_type": "execute_result"
    }
   ],
   "execution_count": 13
  },
  {
   "metadata": {
    "ExecuteTime": {
     "end_time": "2025-08-05T04:50:39.067145Z",
     "start_time": "2025-08-05T04:50:39.055560Z"
    }
   },
   "cell_type": "code",
   "source": [
    "\n",
    "file_path = 'raw_artifacts/image_000000_661e1bf93aedc8c56f2bf4146c3654d628feeae6f38d3991d268d67780835183.png'\n",
    "url = \"https://api.imgbb.com/1/upload\"\n",
    "params = {\n",
    "    # \"expiration\": 600,\n",
    "    \"key\": config['IMGBB_API_KEY'],\n",
    "}"
   ],
   "id": "2f7ee7f2124d9707",
   "outputs": [],
   "execution_count": 20
  },
  {
   "metadata": {
    "ExecuteTime": {
     "end_time": "2025-08-05T04:50:43.286774Z",
     "start_time": "2025-08-05T04:50:40.596655Z"
    }
   },
   "cell_type": "code",
   "source": [
    "with open(file_path, 'rb') as f:\n",
    "    files = {\n",
    "        'image': f\n",
    "    }\n",
    "    response = requests.post(url, params=params, files=files)\n",
    "\n",
    "if response.status_code == 200:\n",
    "    print(\"Upload successful!\")\n",
    "    print(response.json())\n",
    "else:\n",
    "    print(f\"Upload failed with status code: {response.status_code}\")\n",
    "    print(response.text)"
   ],
   "id": "d30bffaa665c0984",
   "outputs": [
    {
     "name": "stdout",
     "output_type": "stream",
     "text": [
      "Upload successful!\n",
      "{'data': {'id': 'yBpBfRsy', 'title': 'image-000000-661e1bf93aedc8c56f2bf4146c3654d628feeae6f38d3991d268d67780835183', 'url_viewer': 'https://ibb.co/yBpBfRsy', 'url': 'https://i.ibb.co/h1c17M8W/image-000000-661e1bf93aedc8c56f2bf4146c3654d628feeae6f38d3991d268d67780835183.png', 'display_url': 'https://i.ibb.co/bRFRW3dB/image-000000-661e1bf93aedc8c56f2bf4146c3654d628feeae6f38d3991d268d67780835183.png', 'width': 1405, 'height': 1151, 'size': 964288, 'time': 1754369443, 'expiration': 0, 'image': {'filename': 'image-000000-661e1bf93aedc8c56f2bf4146c3654d628feeae6f38d3991d268d67780835183.png', 'name': 'image-000000-661e1bf93aedc8c56f2bf4146c3654d628feeae6f38d3991d268d67780835183', 'mime': 'image/png', 'extension': 'png', 'url': 'https://i.ibb.co/h1c17M8W/image-000000-661e1bf93aedc8c56f2bf4146c3654d628feeae6f38d3991d268d67780835183.png'}, 'thumb': {'filename': 'image-000000-661e1bf93aedc8c56f2bf4146c3654d628feeae6f38d3991d268d67780835183.png', 'name': 'image-000000-661e1bf93aedc8c56f2bf4146c3654d628feeae6f38d3991d268d67780835183', 'mime': 'image/png', 'extension': 'png', 'url': 'https://i.ibb.co/yBpBfRsy/image-000000-661e1bf93aedc8c56f2bf4146c3654d628feeae6f38d3991d268d67780835183.png'}, 'medium': {'filename': 'image-000000-661e1bf93aedc8c56f2bf4146c3654d628feeae6f38d3991d268d67780835183.png', 'name': 'image-000000-661e1bf93aedc8c56f2bf4146c3654d628feeae6f38d3991d268d67780835183', 'mime': 'image/png', 'extension': 'png', 'url': 'https://i.ibb.co/bRFRW3dB/image-000000-661e1bf93aedc8c56f2bf4146c3654d628feeae6f38d3991d268d67780835183.png'}, 'delete_url': 'https://ibb.co/yBpBfRsy/68cf422b3469f562f83546aa9d4f74f3'}, 'success': True, 'status': 200}\n"
     ]
    }
   ],
   "execution_count": 21
  },
  {
   "metadata": {
    "ExecuteTime": {
     "end_time": "2025-08-05T05:43:34.067280Z",
     "start_time": "2025-08-05T05:43:34.055260Z"
    }
   },
   "cell_type": "code",
   "source": "pprint.pprint(response.json(), sort_dicts=False)",
   "id": "5ec3310dae4b55c6",
   "outputs": [
    {
     "name": "stdout",
     "output_type": "stream",
     "text": [
      "{'data': {'id': 'yBpBfRsy',\n",
      "          'title': 'image-000000-661e1bf93aedc8c56f2bf4146c3654d628feeae6f38d3991d268d67780835183',\n",
      "          'url_viewer': 'https://ibb.co/yBpBfRsy',\n",
      "          'url': 'https://i.ibb.co/h1c17M8W/image-000000-661e1bf93aedc8c56f2bf4146c3654d628feeae6f38d3991d268d67780835183.png',\n",
      "          'display_url': 'https://i.ibb.co/bRFRW3dB/image-000000-661e1bf93aedc8c56f2bf4146c3654d628feeae6f38d3991d268d67780835183.png',\n",
      "          'width': 1405,\n",
      "          'height': 1151,\n",
      "          'size': 964288,\n",
      "          'time': 1754369443,\n",
      "          'expiration': 0,\n",
      "          'image': {'filename': 'image-000000-661e1bf93aedc8c56f2bf4146c3654d628feeae6f38d3991d268d67780835183.png',\n",
      "                    'name': 'image-000000-661e1bf93aedc8c56f2bf4146c3654d628feeae6f38d3991d268d67780835183',\n",
      "                    'mime': 'image/png',\n",
      "                    'extension': 'png',\n",
      "                    'url': 'https://i.ibb.co/h1c17M8W/image-000000-661e1bf93aedc8c56f2bf4146c3654d628feeae6f38d3991d268d67780835183.png'},\n",
      "          'thumb': {'filename': 'image-000000-661e1bf93aedc8c56f2bf4146c3654d628feeae6f38d3991d268d67780835183.png',\n",
      "                    'name': 'image-000000-661e1bf93aedc8c56f2bf4146c3654d628feeae6f38d3991d268d67780835183',\n",
      "                    'mime': 'image/png',\n",
      "                    'extension': 'png',\n",
      "                    'url': 'https://i.ibb.co/yBpBfRsy/image-000000-661e1bf93aedc8c56f2bf4146c3654d628feeae6f38d3991d268d67780835183.png'},\n",
      "          'medium': {'filename': 'image-000000-661e1bf93aedc8c56f2bf4146c3654d628feeae6f38d3991d268d67780835183.png',\n",
      "                     'name': 'image-000000-661e1bf93aedc8c56f2bf4146c3654d628feeae6f38d3991d268d67780835183',\n",
      "                     'mime': 'image/png',\n",
      "                     'extension': 'png',\n",
      "                     'url': 'https://i.ibb.co/bRFRW3dB/image-000000-661e1bf93aedc8c56f2bf4146c3654d628feeae6f38d3991d268d67780835183.png'},\n",
      "          'delete_url': 'https://ibb.co/yBpBfRsy/68cf422b3469f562f83546aa9d4f74f3'},\n",
      " 'success': True,\n",
      " 'status': 200}\n"
     ]
    }
   ],
   "execution_count": 24
  },
  {
   "metadata": {
    "ExecuteTime": {
     "end_time": "2025-08-05T06:02:51.319228Z",
     "start_time": "2025-08-05T06:02:51.308526Z"
    }
   },
   "cell_type": "code",
   "source": "print(response.json())",
   "id": "f022197bebe15983",
   "outputs": [
    {
     "name": "stdout",
     "output_type": "stream",
     "text": [
      "{'data': {'id': 'yBpBfRsy', 'title': 'image-000000-661e1bf93aedc8c56f2bf4146c3654d628feeae6f38d3991d268d67780835183', 'url_viewer': 'https://ibb.co/yBpBfRsy', 'url': 'https://i.ibb.co/h1c17M8W/image-000000-661e1bf93aedc8c56f2bf4146c3654d628feeae6f38d3991d268d67780835183.png', 'display_url': 'https://i.ibb.co/bRFRW3dB/image-000000-661e1bf93aedc8c56f2bf4146c3654d628feeae6f38d3991d268d67780835183.png', 'width': 1405, 'height': 1151, 'size': 964288, 'time': 1754369443, 'expiration': 0, 'image': {'filename': 'image-000000-661e1bf93aedc8c56f2bf4146c3654d628feeae6f38d3991d268d67780835183.png', 'name': 'image-000000-661e1bf93aedc8c56f2bf4146c3654d628feeae6f38d3991d268d67780835183', 'mime': 'image/png', 'extension': 'png', 'url': 'https://i.ibb.co/h1c17M8W/image-000000-661e1bf93aedc8c56f2bf4146c3654d628feeae6f38d3991d268d67780835183.png'}, 'thumb': {'filename': 'image-000000-661e1bf93aedc8c56f2bf4146c3654d628feeae6f38d3991d268d67780835183.png', 'name': 'image-000000-661e1bf93aedc8c56f2bf4146c3654d628feeae6f38d3991d268d67780835183', 'mime': 'image/png', 'extension': 'png', 'url': 'https://i.ibb.co/yBpBfRsy/image-000000-661e1bf93aedc8c56f2bf4146c3654d628feeae6f38d3991d268d67780835183.png'}, 'medium': {'filename': 'image-000000-661e1bf93aedc8c56f2bf4146c3654d628feeae6f38d3991d268d67780835183.png', 'name': 'image-000000-661e1bf93aedc8c56f2bf4146c3654d628feeae6f38d3991d268d67780835183', 'mime': 'image/png', 'extension': 'png', 'url': 'https://i.ibb.co/bRFRW3dB/image-000000-661e1bf93aedc8c56f2bf4146c3654d628feeae6f38d3991d268d67780835183.png'}, 'delete_url': 'https://ibb.co/yBpBfRsy/68cf422b3469f562f83546aa9d4f74f3'}, 'success': True, 'status': 200}\n"
     ]
    }
   ],
   "execution_count": 26
  },
  {
   "metadata": {
    "ExecuteTime": {
     "end_time": "2025-08-04T07:17:48.941513Z",
     "start_time": "2025-08-04T07:17:48.935261Z"
    }
   },
   "cell_type": "code",
   "source": [
    "for child in children_of_body:\n",
    "    if child.name == 'figure':\n",
    "        print(list(child.children)[0]['src'])"
   ],
   "id": "1924e602448c3f63",
   "outputs": [
    {
     "name": "stdout",
     "output_type": "stream",
     "text": [
      "raw_artifacts%5Cimage_000000_661e1bf93aedc8c56f2bf4146c3654d628feeae6f38d3991d268d67780835183.png\n",
      "raw_artifacts%5Cimage_000001_f8a9d12fc9e4159f4588e9bcdfc2967d14b2cb5869b30f1bb69739417d53f5f1.png\n"
     ]
    }
   ],
   "execution_count": 14
  },
  {
   "metadata": {
    "ExecuteTime": {
     "end_time": "2025-08-01T10:05:24.073392Z",
     "start_time": "2025-08-01T10:05:24.062951Z"
    }
   },
   "cell_type": "code",
   "source": [
    "html_chunks = []\n",
    "for idx in range(len(indexes_chunk_begin) - 1):\n",
    "    html_chunks.append(''.join([str(child) for child in children_of_body[indexes_chunk_begin[idx]:indexes_chunk_begin[idx+1]]]))"
   ],
   "id": "cab6e6e93f661ad7",
   "outputs": [
    {
     "name": "stdout",
     "output_type": "stream",
     "text": [
      "<h2>Parts of a Simple Flower</h2><p>Wild Geranium, Geranium maculatum</p><figure><img src=\"raw_artifacts%5Cimage_000000_661e1bf93aedc8c56f2bf4146c3654d628feeae6f38d3991d268d67780835183.png\"/></figure> \n",
      "\n",
      "\n",
      "<h2>Definitions:</h2><ul>\n",
      "<li>Sepals -The outermost part of the flower, often green but sometimes looking like petals, that usually enclose the flower bud before it opens.</li>\n",
      "<li>Petals - The inner ring of the flower that tend to be brightly colored and often function to attract pollinators.</li>\n",
      "<li>Stamen - The male part of the flower that serves to produce pollen; it is composed of the pollen-bearing anther and the stalk-like filament.</li>\n",
      "<li>Pistil The female part of the flower that typically consists of the stigma at the top which receives the pollen, the narrow style , and the ovary which contains ovules that will later develop into seeds.</li>\n",
      "</ul> \n",
      "\n",
      "\n",
      "<h2>Parts of a Composite Flower</h2><p>Green and Gold, Chrysogonum virginianum</p><figure><img src=\"raw_artifacts%5Cimage_000001_f8a9d12fc9e4159f4588e9bcdfc2967d14b2cb5869b30f1bb69739417d53f5f1.png\"/></figure> \n",
      "\n",
      "\n",
      "<h2>Notes:</h2><p>Composite flowers can be made of all ray flowers that look like the petals of a 'normal' flower (e.g. dandelions), all small knobby disk flowers (e.g. thistles), or both types (like this one, Green and Gold). The single petal on a ray flower is called a ligule . On both ray and disk flowers, the pollen-producing anthers are typically fused together into a tube; on a disk flower, the petals are also typically fused. The pistil , commonly with two curling lobes, emerges as each disk or ray flower matures. In Green and Gold, the ray flowers are lacking stamens (pistillate).</p> \n",
      "\n",
      "\n"
     ]
    }
   ],
   "execution_count": 143
  },
  {
   "metadata": {
    "ExecuteTime": {
     "end_time": "2025-08-01T10:07:34.144656Z",
     "start_time": "2025-08-01T10:07:34.138940Z"
    }
   },
   "cell_type": "code",
   "source": [
    "chunking_output = {\n",
    "    'chunks': html_chunks,\n",
    "}"
   ],
   "id": "a1d08007a9f02f4b",
   "outputs": [],
   "execution_count": 144
  },
  {
   "metadata": {
    "ExecuteTime": {
     "end_time": "2025-08-01T10:15:46.799380Z",
     "start_time": "2025-08-01T10:15:46.788261Z"
    }
   },
   "cell_type": "code",
   "source": [
    "soup_chunk = BeautifulSoup(html_chunks[0])\n",
    "with open('soup_chunk.html', 'w', encoding='utf-8') as f:\n",
    "    f.writelines(str(soup_chunk))"
   ],
   "id": "2f14a3035b8af0e5",
   "outputs": [],
   "execution_count": 156
  },
  {
   "metadata": {
    "ExecuteTime": {
     "end_time": "2025-07-31T03:23:58.832113Z",
     "start_time": "2025-07-31T03:23:58.819100Z"
    }
   },
   "cell_type": "code",
   "outputs": [],
   "execution_count": 8,
   "source": "dump = result.document.model_dump()",
   "id": "c24a27ccb702c059"
  },
  {
   "metadata": {
    "ExecuteTime": {
     "end_time": "2025-08-05T04:08:18.314707Z",
     "start_time": "2025-08-05T04:08:16.151023Z"
    }
   },
   "cell_type": "code",
   "source": "pprint.pprint(result.document.export_to_element_tree())",
   "id": "2b28553aadb5045",
   "outputs": [
    {
     "ename": "NameError",
     "evalue": "name 'pprint' is not defined",
     "output_type": "error",
     "traceback": [
      "\u001B[31m---------------------------------------------------------------------------\u001B[39m",
      "\u001B[31mNameError\u001B[39m                                 Traceback (most recent call last)",
      "\u001B[36mCell\u001B[39m\u001B[36m \u001B[39m\u001B[32mIn[1]\u001B[39m\u001B[32m, line 1\u001B[39m\n\u001B[32m----> \u001B[39m\u001B[32m1\u001B[39m \u001B[43mpprint\u001B[49m.pprint(result.document.export_to_element_tree())\n",
      "\u001B[31mNameError\u001B[39m: name 'pprint' is not defined"
     ]
    }
   ],
   "execution_count": 1
  },
  {
   "metadata": {
    "ExecuteTime": {
     "end_time": "2025-07-31T04:42:12.265671Z",
     "start_time": "2025-07-31T04:42:12.235992Z"
    }
   },
   "cell_type": "code",
   "outputs": [],
   "execution_count": 12,
   "source": [
    "def custom_export_to_element_tree(document: DoclingDocument):\n",
    "    e_tree = []\n",
    "    for ix, (item, level) in enumerate(\n",
    "        document.iterate_items(\n",
    "            with_groups=True,\n",
    "            traverse_pictures=True,\n",
    "            included_content_layers={cl for cl in ContentLayer},\n",
    "        )\n",
    "    ):\n",
    "        if isinstance(item, GroupItem):\n",
    "            e_tree.append(\n",
    "                {\n",
    "                    \"index\": ix,\n",
    "                    \"level\": level,\n",
    "                    \"item_class_name\": item.__class__.__name__,\n",
    "                    \"item_label\": item.label.value,\n",
    "                    \"item_name\": item.name,\n",
    "                }\n",
    "            )\n",
    "        elif isinstance(item, TextItem):\n",
    "            e_tree.append(\n",
    "                {\n",
    "                    \"index\": ix,\n",
    "                    \"level\": level,\n",
    "                    \"item_class_name\": item.__class__.__name__,\n",
    "                    \"item_label\": item.label.value,\n",
    "                    \"item_content\": item.text[:min(len(item.text), 100)],\n",
    "                }\n",
    "            )\n",
    "        elif isinstance(item, DocItem):\n",
    "            e_tree.append(\n",
    "                {\n",
    "                    \"index\": ix,\n",
    "                    \"level\": level,\n",
    "                    \"item_class_name\": item.__class__.__name__,\n",
    "                    \"item_label\": item.label.value,\n",
    "                }\n",
    "            )\n",
    "    return e_tree"
   ],
   "id": "210ca65c210deb11"
  },
  {
   "metadata": {
    "ExecuteTime": {
     "end_time": "2025-07-31T04:42:23.696118Z",
     "start_time": "2025-07-31T04:42:23.674003Z"
    }
   },
   "cell_type": "code",
   "outputs": [
    {
     "data": {
      "text/plain": [
       "[{'index': 0,\n",
       "  'level': 0,\n",
       "  'item_class_name': 'GroupItem',\n",
       "  'item_label': 'unspecified',\n",
       "  'item_name': '_root_'},\n",
       " {'index': 1,\n",
       "  'level': 1,\n",
       "  'item_class_name': 'SectionHeaderItem',\n",
       "  'item_label': 'section_header',\n",
       "  'item_content': 'Parts of a Simple Flower'},\n",
       " {'index': 2,\n",
       "  'level': 1,\n",
       "  'item_class_name': 'TextItem',\n",
       "  'item_label': 'text',\n",
       "  'item_content': 'Wild Geranium, Geranium maculatum'},\n",
       " {'index': 3,\n",
       "  'level': 1,\n",
       "  'item_class_name': 'PictureItem',\n",
       "  'item_label': 'picture'},\n",
       " {'index': 4,\n",
       "  'level': 2,\n",
       "  'item_class_name': 'TextItem',\n",
       "  'item_label': 'text',\n",
       "  'item_content': 'Petal'},\n",
       " {'index': 5,\n",
       "  'level': 2,\n",
       "  'item_class_name': 'TextItem',\n",
       "  'item_label': 'text',\n",
       "  'item_content': 'Sepal'},\n",
       " {'index': 6,\n",
       "  'level': 2,\n",
       "  'item_class_name': 'TextItem',\n",
       "  'item_label': 'text',\n",
       "  'item_content': 'Pistil'},\n",
       " {'index': 7,\n",
       "  'level': 2,\n",
       "  'item_class_name': 'TextItem',\n",
       "  'item_label': 'text',\n",
       "  'item_content': 'Stamen'},\n",
       " {'index': 8,\n",
       "  'level': 2,\n",
       "  'item_class_name': 'TextItem',\n",
       "  'item_label': 'text',\n",
       "  'item_content': 'Pistil'},\n",
       " {'index': 9,\n",
       "  'level': 2,\n",
       "  'item_class_name': 'TextItem',\n",
       "  'item_label': 'text',\n",
       "  'item_content': 'Stigma'},\n",
       " {'index': 10,\n",
       "  'level': 2,\n",
       "  'item_class_name': 'TextItem',\n",
       "  'item_label': 'text',\n",
       "  'item_content': 'Style'},\n",
       " {'index': 11,\n",
       "  'level': 2,\n",
       "  'item_class_name': 'TextItem',\n",
       "  'item_label': 'text',\n",
       "  'item_content': 'Ovary'},\n",
       " {'index': 12,\n",
       "  'level': 2,\n",
       "  'item_class_name': 'TextItem',\n",
       "  'item_label': 'text',\n",
       "  'item_content': 'Stamen'},\n",
       " {'index': 13,\n",
       "  'level': 2,\n",
       "  'item_class_name': 'TextItem',\n",
       "  'item_label': 'text',\n",
       "  'item_content': 'Anther'},\n",
       " {'index': 14,\n",
       "  'level': 2,\n",
       "  'item_class_name': 'TextItem',\n",
       "  'item_label': 'text',\n",
       "  'item_content': 'Filament'},\n",
       " {'index': 15,\n",
       "  'level': 1,\n",
       "  'item_class_name': 'SectionHeaderItem',\n",
       "  'item_label': 'section_header',\n",
       "  'item_content': 'Definitions:'},\n",
       " {'index': 16,\n",
       "  'level': 1,\n",
       "  'item_class_name': 'ListGroup',\n",
       "  'item_label': 'list',\n",
       "  'item_name': 'list'},\n",
       " {'index': 17,\n",
       "  'level': 2,\n",
       "  'item_class_name': 'ListItem',\n",
       "  'item_label': 'list_item',\n",
       "  'item_content': 'Sepals -The outermost part of the flower, often green but sometimes looking like petals, that usuall'},\n",
       " {'index': 18,\n",
       "  'level': 2,\n",
       "  'item_class_name': 'ListItem',\n",
       "  'item_label': 'list_item',\n",
       "  'item_content': 'Petals - The inner ring of the flower that tend to be brightly colored and often function to attract'},\n",
       " {'index': 19,\n",
       "  'level': 2,\n",
       "  'item_class_name': 'ListItem',\n",
       "  'item_label': 'list_item',\n",
       "  'item_content': 'Stamen - The male part of the flower that serves to produce pollen; it is composed of the pollen-bea'},\n",
       " {'index': 20,\n",
       "  'level': 2,\n",
       "  'item_class_name': 'ListItem',\n",
       "  'item_label': 'list_item',\n",
       "  'item_content': 'Pistil The female part of the flower that typically consists of the stigma at the top which receives'},\n",
       " {'index': 21,\n",
       "  'level': 1,\n",
       "  'item_class_name': 'SectionHeaderItem',\n",
       "  'item_label': 'section_header',\n",
       "  'item_content': 'Parts of a Composite Flower'},\n",
       " {'index': 22,\n",
       "  'level': 1,\n",
       "  'item_class_name': 'TextItem',\n",
       "  'item_label': 'text',\n",
       "  'item_content': 'Green and Gold, Chrysogonum virginianum'},\n",
       " {'index': 23,\n",
       "  'level': 1,\n",
       "  'item_class_name': 'PictureItem',\n",
       "  'item_label': 'picture'},\n",
       " {'index': 24,\n",
       "  'level': 2,\n",
       "  'item_class_name': 'TextItem',\n",
       "  'item_label': 'text',\n",
       "  'item_content': 'Ray Flowers'},\n",
       " {'index': 25,\n",
       "  'level': 2,\n",
       "  'item_class_name': 'TextItem',\n",
       "  'item_label': 'text',\n",
       "  'item_content': 'Disk'},\n",
       " {'index': 26,\n",
       "  'level': 2,\n",
       "  'item_class_name': 'TextItem',\n",
       "  'item_label': 'text',\n",
       "  'item_content': 'Flowers'},\n",
       " {'index': 27,\n",
       "  'level': 2,\n",
       "  'item_class_name': 'TextItem',\n",
       "  'item_label': 'text',\n",
       "  'item_content': 'Ligule'},\n",
       " {'index': 28,\n",
       "  'level': 2,\n",
       "  'item_class_name': 'TextItem',\n",
       "  'item_label': 'text',\n",
       "  'item_content': 'Pistil'},\n",
       " {'index': 29,\n",
       "  'level': 2,\n",
       "  'item_class_name': 'TextItem',\n",
       "  'item_label': 'text',\n",
       "  'item_content': 'Ovary'},\n",
       " {'index': 30,\n",
       "  'level': 2,\n",
       "  'item_class_name': 'TextItem',\n",
       "  'item_label': 'text',\n",
       "  'item_content': 'Pistil'},\n",
       " {'index': 31,\n",
       "  'level': 2,\n",
       "  'item_class_name': 'TextItem',\n",
       "  'item_label': 'text',\n",
       "  'item_content': 'Anther tube'},\n",
       " {'index': 32,\n",
       "  'level': 2,\n",
       "  'item_class_name': 'TextItem',\n",
       "  'item_label': 'text',\n",
       "  'item_content': 'Fused petals'},\n",
       " {'index': 33,\n",
       "  'level': 1,\n",
       "  'item_class_name': 'SectionHeaderItem',\n",
       "  'item_label': 'section_header',\n",
       "  'item_content': 'Notes:'},\n",
       " {'index': 34,\n",
       "  'level': 1,\n",
       "  'item_class_name': 'TextItem',\n",
       "  'item_label': 'text',\n",
       "  'item_content': \"Composite flowers can be made of all ray flowers that look like the petals of a 'normal' flower (e.g\"}]"
      ]
     },
     "execution_count": 13,
     "metadata": {},
     "output_type": "execute_result"
    }
   ],
   "execution_count": 13,
   "source": "custom_export_to_element_tree(result.document)",
   "id": "a7eaf910340f141"
  },
  {
   "metadata": {},
   "cell_type": "code",
   "outputs": [],
   "execution_count": null,
   "source": "",
   "id": "45825d7e9a280475"
  },
  {
   "metadata": {
    "ExecuteTime": {
     "end_time": "2025-08-01T02:51:11.770484Z",
     "start_time": "2025-08-01T02:51:11.748249Z"
    }
   },
   "cell_type": "code",
   "source": [
    "for idx, chunk in enumerate(chunks):\n",
    "    print(f'{\"-\"*30}{idx}{\"-\"*30}')\n",
    "    pprint.pprint(chunk.export_json_dict(), sort_dicts=False)"
   ],
   "id": "3d7d9f2693ce59a7",
   "outputs": [
    {
     "name": "stdout",
     "output_type": "stream",
     "text": [
      "------------------------------0------------------------------\n",
      "{'text': 'Wild Geranium, Geranium maculatum',\n",
      " 'meta': {'schema_name': 'docling_core.transforms.chunker.DocMeta',\n",
      "          'version': '1.0.0',\n",
      "          'doc_items': [{'self_ref': '#/texts/1',\n",
      "                         'parent': {'$ref': '#/body'},\n",
      "                         'children': [],\n",
      "                         'content_layer': 'body',\n",
      "                         'label': 'text',\n",
      "                         'prov': [{'page_no': 1,\n",
      "                                   'bbox': {'l': 133.81,\n",
      "                                            't': 652.428,\n",
      "                                            'r': 412.182,\n",
      "                                            'b': 632.897,\n",
      "                                            'coord_origin': 'BOTTOMLEFT'},\n",
      "                                   'charspan': [0, 33]}]}],\n",
      "          'headings': ['Parts of a Simple Flower'],\n",
      "          'origin': {'mimetype': 'application/pdf',\n",
      "                     'binary_hash': 4392405294199241303,\n",
      "                     'filename': 'Flower-Parts-Diagrams.pdf'}}}\n",
      "------------------------------1------------------------------\n",
      "{'text': '- Sepals -The outermost part of the flower, often green but '\n",
      "         'sometimes looking like petals, that usually enclose the flower bud '\n",
      "         'before it opens.\\n'\n",
      "         '- Petals - The inner ring of the flower that tend to be brightly '\n",
      "         'colored and often function to attract pollinators.\\n'\n",
      "         '- Stamen - The male part of the flower that serves to produce '\n",
      "         'pollen; it is composed of the pollen-bearing anther and the '\n",
      "         'stalk-like filament.\\n'\n",
      "         '- Pistil The female part of the flower that typically consists of '\n",
      "         'the stigma at the top which receives the pollen, the narrow style , '\n",
      "         'and the ovary which contains ovules that will later develop into '\n",
      "         'seeds.',\n",
      " 'meta': {'schema_name': 'docling_core.transforms.chunker.DocMeta',\n",
      "          'version': '1.0.0',\n",
      "          'doc_items': [{'self_ref': '#/texts/14',\n",
      "                         'parent': {'$ref': '#/groups/0'},\n",
      "                         'children': [],\n",
      "                         'content_layer': 'body',\n",
      "                         'label': 'list_item',\n",
      "                         'prov': [{'page_no': 1,\n",
      "                                   'bbox': {'l': 46.792,\n",
      "                                            't': 187.764,\n",
      "                                            'r': 493.257,\n",
      "                                            'b': 155.53300000000002,\n",
      "                                            'coord_origin': 'BOTTOMLEFT'},\n",
      "                                   'charspan': [0, 141]}]},\n",
      "                        {'self_ref': '#/texts/15',\n",
      "                         'parent': {'$ref': '#/groups/0'},\n",
      "                         'children': [],\n",
      "                         'content_layer': 'body',\n",
      "                         'label': 'list_item',\n",
      "                         'prov': [{'page_no': 1,\n",
      "                                   'bbox': {'l': 46.792,\n",
      "                                            't': 154.644,\n",
      "                                            'r': 496.681,\n",
      "                                            'b': 122.41300000000001,\n",
      "                                            'coord_origin': 'BOTTOMLEFT'},\n",
      "                                   'charspan': [0, 113]}]},\n",
      "                        {'self_ref': '#/texts/16',\n",
      "                         'parent': {'$ref': '#/groups/0'},\n",
      "                         'children': [],\n",
      "                         'content_layer': 'body',\n",
      "                         'label': 'list_item',\n",
      "                         'prov': [{'page_no': 1,\n",
      "                                   'bbox': {'l': 46.792,\n",
      "                                            't': 120.56399999999996,\n",
      "                                            'r': 474.184,\n",
      "                                            'b': 88.57299999999998,\n",
      "                                            'coord_origin': 'BOTTOMLEFT'},\n",
      "                                   'charspan': [0, 140]}]},\n",
      "                        {'self_ref': '#/texts/17',\n",
      "                         'parent': {'$ref': '#/groups/0'},\n",
      "                         'children': [],\n",
      "                         'content_layer': 'body',\n",
      "                         'label': 'list_item',\n",
      "                         'prov': [{'page_no': 1,\n",
      "                                   'bbox': {'l': 46.792,\n",
      "                                            't': 86.72400000000005,\n",
      "                                            'r': 486.021,\n",
      "                                            'b': 38.41300000000001,\n",
      "                                            'coord_origin': 'BOTTOMLEFT'},\n",
      "                                   'charspan': [0, 203]}]}],\n",
      "          'headings': ['Definitions:'],\n",
      "          'origin': {'mimetype': 'application/pdf',\n",
      "                     'binary_hash': 4392405294199241303,\n",
      "                     'filename': 'Flower-Parts-Diagrams.pdf'}}}\n",
      "------------------------------2------------------------------\n",
      "{'text': 'Green and Gold, Chrysogonum virginianum',\n",
      " 'meta': {'schema_name': 'docling_core.transforms.chunker.DocMeta',\n",
      "          'version': '1.0.0',\n",
      "          'doc_items': [{'self_ref': '#/texts/19',\n",
      "                         'parent': {'$ref': '#/body'},\n",
      "                         'children': [],\n",
      "                         'content_layer': 'body',\n",
      "                         'label': 'text',\n",
      "                         'prov': [{'page_no': 2,\n",
      "                                   'bbox': {'l': 115.32,\n",
      "                                            't': 656.268,\n",
      "                                            'r': 430.728,\n",
      "                                            'b': 636.737,\n",
      "                                            'coord_origin': 'BOTTOMLEFT'},\n",
      "                                   'charspan': [0, 39]}]}],\n",
      "          'headings': ['Parts of a Composite Flower'],\n",
      "          'origin': {'mimetype': 'application/pdf',\n",
      "                     'binary_hash': 4392405294199241303,\n",
      "                     'filename': 'Flower-Parts-Diagrams.pdf'}}}\n",
      "------------------------------3------------------------------\n",
      "{'text': 'Composite flowers can be made of all ray flowers that look like the '\n",
      "         \"petals of a 'normal' flower (e.g. dandelions), all small knobby disk \"\n",
      "         'flowers (e.g. thistles), or both types (like this one, Green and '\n",
      "         'Gold). The single petal on a ray flower is called a ligule . On both '\n",
      "         'ray and disk flowers, the pollen-producing anthers are typically '\n",
      "         'fused together into a tube; on a disk flower, the petals are also '\n",
      "         'typically fused. The pistil , commonly with two curling lobes, '\n",
      "         'emerges as each disk or ray flower matures. In Green and Gold, the '\n",
      "         'ray flowers are lacking stamens (pistillate).',\n",
      " 'meta': {'schema_name': 'docling_core.transforms.chunker.DocMeta',\n",
      "          'version': '1.0.0',\n",
      "          'doc_items': [{'self_ref': '#/texts/30',\n",
      "                         'parent': {'$ref': '#/body'},\n",
      "                         'children': [],\n",
      "                         'content_layer': 'body',\n",
      "                         'label': 'text',\n",
      "                         'prov': [{'page_no': 2,\n",
      "                                   'bbox': {'l': 46.492,\n",
      "                                            't': 161.12400000000002,\n",
      "                                            'r': 499.3,\n",
      "                                            'b': 29.65599999999995,\n",
      "                                            'coord_origin': 'BOTTOMLEFT'},\n",
      "                                   'charspan': [0, 577]}]}],\n",
      "          'headings': ['Notes:'],\n",
      "          'origin': {'mimetype': 'application/pdf',\n",
      "                     'binary_hash': 4392405294199241303,\n",
      "                     'filename': 'Flower-Parts-Diagrams.pdf'}}}\n"
     ]
    }
   ],
   "execution_count": 16
  },
  {
   "metadata": {
    "ExecuteTime": {
     "end_time": "2025-08-01T02:33:56.799346Z",
     "start_time": "2025-08-01T02:33:56.785525Z"
    }
   },
   "cell_type": "code",
   "source": [
    "# chunks[0].model_dump()\n",
    "chunks[1].export_json_dict()"
   ],
   "id": "262695b71e895d63",
   "outputs": [
    {
     "data": {
      "text/plain": [
       "{'text': '- Sepals -The outermost part of the flower, often green but sometimes looking like petals, that usually enclose the flower bud before it opens.\\n- Petals - The inner ring of the flower that tend to be brightly colored and often function to attract pollinators.\\n- Stamen - The male part of the flower that serves to produce pollen; it is composed of the pollen-bearing anther and the stalk-like filament.\\n- Pistil The female part of the flower that typically consists of the stigma at the top which receives the pollen, the narrow style , and the ovary which contains ovules that will later develop into seeds.',\n",
       " 'meta': {'schema_name': 'docling_core.transforms.chunker.DocMeta',\n",
       "  'version': '1.0.0',\n",
       "  'doc_items': [{'self_ref': '#/texts/14',\n",
       "    'parent': {'$ref': '#/groups/0'},\n",
       "    'children': [],\n",
       "    'content_layer': 'body',\n",
       "    'label': 'list_item',\n",
       "    'prov': [{'page_no': 1,\n",
       "      'bbox': {'l': 46.792,\n",
       "       't': 187.764,\n",
       "       'r': 493.257,\n",
       "       'b': 155.53300000000002,\n",
       "       'coord_origin': 'BOTTOMLEFT'},\n",
       "      'charspan': [0, 141]}]},\n",
       "   {'self_ref': '#/texts/15',\n",
       "    'parent': {'$ref': '#/groups/0'},\n",
       "    'children': [],\n",
       "    'content_layer': 'body',\n",
       "    'label': 'list_item',\n",
       "    'prov': [{'page_no': 1,\n",
       "      'bbox': {'l': 46.792,\n",
       "       't': 154.644,\n",
       "       'r': 496.681,\n",
       "       'b': 122.41300000000001,\n",
       "       'coord_origin': 'BOTTOMLEFT'},\n",
       "      'charspan': [0, 113]}]},\n",
       "   {'self_ref': '#/texts/16',\n",
       "    'parent': {'$ref': '#/groups/0'},\n",
       "    'children': [],\n",
       "    'content_layer': 'body',\n",
       "    'label': 'list_item',\n",
       "    'prov': [{'page_no': 1,\n",
       "      'bbox': {'l': 46.792,\n",
       "       't': 120.56399999999996,\n",
       "       'r': 474.184,\n",
       "       'b': 88.57299999999998,\n",
       "       'coord_origin': 'BOTTOMLEFT'},\n",
       "      'charspan': [0, 140]}]},\n",
       "   {'self_ref': '#/texts/17',\n",
       "    'parent': {'$ref': '#/groups/0'},\n",
       "    'children': [],\n",
       "    'content_layer': 'body',\n",
       "    'label': 'list_item',\n",
       "    'prov': [{'page_no': 1,\n",
       "      'bbox': {'l': 46.792,\n",
       "       't': 86.72400000000005,\n",
       "       'r': 486.021,\n",
       "       'b': 38.41300000000001,\n",
       "       'coord_origin': 'BOTTOMLEFT'},\n",
       "      'charspan': [0, 203]}]}],\n",
       "  'headings': ['Definitions:'],\n",
       "  'origin': {'mimetype': 'application/pdf',\n",
       "   'binary_hash': 4392405294199241303,\n",
       "   'filename': 'Flower-Parts-Diagrams.pdf'}}}"
      ]
     },
     "execution_count": 12,
     "metadata": {},
     "output_type": "execute_result"
    }
   ],
   "execution_count": 12
  },
  {
   "metadata": {
    "ExecuteTime": {
     "end_time": "2025-07-30T09:57:34.443574Z",
     "start_time": "2025-07-30T09:57:34.427923Z"
    }
   },
   "cell_type": "code",
   "source": "pprint.pprint(chunks[0].export_json_dict(), sort_dicts=False)",
   "id": "e45d457c96d396b",
   "outputs": [
    {
     "name": "stdout",
     "output_type": "stream",
     "text": [
      "{'text': 'Wild Geranium, Geranium maculatum',\n",
      " 'meta': {'schema_name': 'docling_core.transforms.chunker.DocMeta',\n",
      "          'version': '1.0.0',\n",
      "          'doc_items': [{'self_ref': '#/texts/1',\n",
      "                         'parent': {'$ref': '#/body'},\n",
      "                         'children': [],\n",
      "                         'content_layer': 'body',\n",
      "                         'label': 'text',\n",
      "                         'prov': [{'page_no': 1,\n",
      "                                   'bbox': {'l': 133.81,\n",
      "                                            't': 652.428,\n",
      "                                            'r': 412.182,\n",
      "                                            'b': 632.897,\n",
      "                                            'coord_origin': 'BOTTOMLEFT'},\n",
      "                                   'charspan': [0, 33]}]}],\n",
      "          'headings': ['Parts of a Simple Flower'],\n",
      "          'origin': {'mimetype': 'application/pdf',\n",
      "                     'binary_hash': 4392405294199241303,\n",
      "                     'filename': 'Flower-Parts-Diagrams.pdf'}}}\n"
     ]
    }
   ],
   "execution_count": 29
  },
  {
   "metadata": {
    "ExecuteTime": {
     "end_time": "2025-08-01T08:46:37.145823Z",
     "start_time": "2025-08-01T08:46:37.126291Z"
    }
   },
   "cell_type": "code",
   "source": [
    "graph = {}\n",
    "for j in range(len(chunks)):\n",
    "    meta = chunks[j].export_json_dict()['meta']\n",
    "    graph[j] = {}\n",
    "    for i in range(len(meta['doc_items'])):\n",
    "        doc_item = meta['doc_items'][i]\n",
    "        self_ref = doc_item['self_ref']\n",
    "        if len(doc_item['parent']) != 1:\n",
    "            print('warning len parent != 1')\n",
    "        if len(doc_item['children']) != 0:\n",
    "            print('warning len children != 0')\n",
    "        parent_ref = doc_item['parent']['$ref']\n",
    "\n",
    "        if parent_ref not in graph[j]:\n",
    "            graph[j][parent_ref] = []\n",
    "        graph[j][parent_ref].append(self_ref)\n",
    "pprint.pprint(graph, sort_dicts=False)"
   ],
   "id": "4f00cb9b49309673",
   "outputs": [
    {
     "name": "stdout",
     "output_type": "stream",
     "text": [
      "{0: {'#/body': ['#/texts/1']},\n",
      " 1: {'#/groups/0': ['#/texts/14', '#/texts/15', '#/texts/16', '#/texts/17']},\n",
      " 2: {'#/body': ['#/texts/19']},\n",
      " 3: {'#/body': ['#/texts/30']}}\n"
     ]
    }
   ],
   "execution_count": 79
  },
  {
   "metadata": {},
   "cell_type": "code",
   "outputs": [],
   "execution_count": null,
   "source": [
    "class Node:\n",
    "    def __init__(self, data):\n",
    "        self.data = data\n",
    "        self.children = []\n",
    "    def add_child(self, child):\n",
    "        self.children.append(child)"
   ],
   "id": "94f08adca61a56c5"
  },
  {
   "metadata": {
    "ExecuteTime": {
     "end_time": "2025-07-17T04:51:13.543478Z",
     "start_time": "2025-07-17T04:51:13.522313Z"
    }
   },
   "cell_type": "code",
   "source": "pprint.pprint(chunks[1].export_json_dict(), sort_dicts=False)",
   "id": "d26925fb57d86dc",
   "outputs": [
    {
     "name": "stdout",
     "output_type": "stream",
     "text": [
      "{'text': '1. Select two datasets with labels.\\n'\n",
      "         '2. Run k-nn on these two datasets. Calculate the classification '\n",
      "         'error (by comparing the class labels obtained with the prediction '\n",
      "         'and the original labels of test data).\\n'\n",
      "         '3. Vary the value of k, comment on the results\\n'\n",
      "         '4. Try to normalize the input dataset, is the performance better?\\n'\n",
      "         '5. Apply PCA and SVD on the dataset, then what is the performance of '\n",
      "         'k-nn on the new projected data? Justify the answer.\\n'\n",
      "         '6. Propose an approach to improve the performance of k-nn with the '\n",
      "         'use of k-cross validation.\\n'\n",
      "         '7. Apply leave-one-out and calculate the error of classification.',\n",
      " 'meta': {'schema_name': 'docling_core.transforms.chunker.DocMeta',\n",
      "          'version': '1.0.0',\n",
      "          'doc_items': [{'self_ref': '#/texts/4',\n",
      "                         'parent': {'$ref': '#/groups/0'},\n",
      "                         'children': [],\n",
      "                         'content_layer': 'body',\n",
      "                         'label': 'list_item',\n",
      "                         'prov': [{'page_no': 1,\n",
      "                                   'bbox': {'l': 68.307,\n",
      "                                            't': 500.909,\n",
      "                                            'r': 243.762,\n",
      "                                            'b': 490.461,\n",
      "                                            'coord_origin': 'BOTTOMLEFT'},\n",
      "                                   'charspan': [0, 35]}]},\n",
      "                        {'self_ref': '#/texts/5',\n",
      "                         'parent': {'$ref': '#/groups/0'},\n",
      "                         'children': [],\n",
      "                         'content_layer': 'body',\n",
      "                         'label': 'list_item',\n",
      "                         'prov': [{'page_no': 1,\n",
      "                                   'bbox': {'l': 68.307,\n",
      "                                            't': 469.278,\n",
      "                                            'r': 557.994,\n",
      "                                            'b': 437.161,\n",
      "                                            'coord_origin': 'BOTTOMLEFT'},\n",
      "                                   'charspan': [0, 168]}]},\n",
      "                        {'self_ref': '#/texts/6',\n",
      "                         'parent': {'$ref': '#/groups/0'},\n",
      "                         'children': [],\n",
      "                         'content_layer': 'body',\n",
      "                         'label': 'list_item',\n",
      "                         'prov': [{'page_no': 1,\n",
      "                                   'bbox': {'l': 68.307,\n",
      "                                            't': 415.978,\n",
      "                                            'r': 308.733,\n",
      "                                            'b': 405.53,\n",
      "                                            'coord_origin': 'BOTTOMLEFT'},\n",
      "                                   'charspan': [0, 46]}]},\n",
      "                        {'self_ref': '#/texts/7',\n",
      "                         'parent': {'$ref': '#/groups/0'},\n",
      "                         'children': [],\n",
      "                         'content_layer': 'body',\n",
      "                         'label': 'list_item',\n",
      "                         'prov': [{'page_no': 1,\n",
      "                                   'bbox': {'l': 68.307,\n",
      "                                            't': 384.346,\n",
      "                                            'r': 404.011,\n",
      "                                            'b': 373.898,\n",
      "                                            'coord_origin': 'BOTTOMLEFT'},\n",
      "                                   'charspan': [0, 65]}]},\n",
      "                        {'self_ref': '#/texts/8',\n",
      "                         'parent': {'$ref': '#/groups/0'},\n",
      "                         'children': [],\n",
      "                         'content_layer': 'body',\n",
      "                         'label': 'list_item',\n",
      "                         'prov': [{'page_no': 1,\n",
      "                                   'bbox': {'l': 68.307,\n",
      "                                            't': 352.715,\n",
      "                                            'r': 557.997,\n",
      "                                            'b': 320.598,\n",
      "                                            'coord_origin': 'BOTTOMLEFT'},\n",
      "                                   'charspan': [0, 120]}]},\n",
      "                        {'self_ref': '#/texts/9',\n",
      "                         'parent': {'$ref': '#/groups/0'},\n",
      "                         'children': [],\n",
      "                         'content_layer': 'body',\n",
      "                         'label': 'list_item',\n",
      "                         'prov': [{'page_no': 1,\n",
      "                                   'bbox': {'l': 68.307,\n",
      "                                            't': 299.415,\n",
      "                                            'r': 553.877,\n",
      "                                            'b': 288.967,\n",
      "                                            'coord_origin': 'BOTTOMLEFT'},\n",
      "                                   'charspan': [0, 93]}]},\n",
      "                        {'self_ref': '#/texts/10',\n",
      "                         'parent': {'$ref': '#/groups/0'},\n",
      "                         'children': [],\n",
      "                         'content_layer': 'body',\n",
      "                         'label': 'list_item',\n",
      "                         'prov': [{'page_no': 1,\n",
      "                                   'bbox': {'l': 68.307,\n",
      "                                            't': 267.783,\n",
      "                                            'r': 390.999,\n",
      "                                            'b': 257.33500000000004,\n",
      "                                            'coord_origin': 'BOTTOMLEFT'},\n",
      "                                   'charspan': [0, 65]}]}],\n",
      "          'headings': ['1 K-nearest neighbor classification'],\n",
      "          'origin': {'mimetype': 'application/pdf',\n",
      "                     'binary_hash': 4489139850393604518,\n",
      "                     'filename': 'TD- Classification I.pdf'}}}\n"
     ]
    }
   ],
   "execution_count": 68
  },
  {
   "metadata": {
    "ExecuteTime": {
     "end_time": "2025-07-17T04:37:20.427711Z",
     "start_time": "2025-07-17T04:37:20.421748Z"
    }
   },
   "cell_type": "code",
   "source": [
    "\n",
    "print(json.dumps(json.loads(str(chunks[4].export_json_dict()).replace('\\'', '\\\"')), indent=4))"
   ],
   "id": "8f76d74404b81ab5",
   "outputs": [
    {
     "name": "stdout",
     "output_type": "stream",
     "text": [
      "{\n",
      "    \"text\": \"- \\u277c Set up the SVM parameters suitable to the selected datasets.\\n- \\u277c What is the performance of SVMs?\\n- \\u277c How can SVM handle multi-class datasets?\",\n",
      "    \"meta\": {\n",
      "        \"schema_name\": \"docling_core.transforms.chunker.DocMeta\",\n",
      "        \"version\": \"1.0.0\",\n",
      "        \"doc_items\": [\n",
      "            {\n",
      "                \"self_ref\": \"#/texts/16\",\n",
      "                \"parent\": {\n",
      "                    \"$ref\": \"#/groups/2\"\n",
      "                },\n",
      "                \"children\": [],\n",
      "                \"content_layer\": \"body\",\n",
      "                \"label\": \"list_item\",\n",
      "                \"prov\": [\n",
      "                    {\n",
      "                        \"page_no\": 2,\n",
      "                        \"bbox\": {\n",
      "                            \"l\": 71.56,\n",
      "                            \"t\": 733.348,\n",
      "                            \"r\": 397.696,\n",
      "                            \"b\": 722.9,\n",
      "                            \"coord_origin\": \"BOTTOMLEFT\"\n",
      "                        },\n",
      "                        \"charspan\": [\n",
      "                            0,\n",
      "                            62\n",
      "                        ]\n",
      "                    }\n",
      "                ]\n",
      "            },\n",
      "            {\n",
      "                \"self_ref\": \"#/texts/17\",\n",
      "                \"parent\": {\n",
      "                    \"$ref\": \"#/groups/2\"\n",
      "                },\n",
      "                \"children\": [],\n",
      "                \"content_layer\": \"body\",\n",
      "                \"label\": \"list_item\",\n",
      "                \"prov\": [\n",
      "                    {\n",
      "                        \"page_no\": 2,\n",
      "                        \"bbox\": {\n",
      "                            \"l\": 71.56,\n",
      "                            \"t\": 701.717,\n",
      "                            \"r\": 264.503,\n",
      "                            \"b\": 691.269,\n",
      "                            \"coord_origin\": \"BOTTOMLEFT\"\n",
      "                        },\n",
      "                        \"charspan\": [\n",
      "                            0,\n",
      "                            34\n",
      "                        ]\n",
      "                    }\n",
      "                ]\n",
      "            },\n",
      "            {\n",
      "                \"self_ref\": \"#/texts/18\",\n",
      "                \"parent\": {\n",
      "                    \"$ref\": \"#/groups/2\"\n",
      "                },\n",
      "                \"children\": [],\n",
      "                \"content_layer\": \"body\",\n",
      "                \"label\": \"list_item\",\n",
      "                \"prov\": [\n",
      "                    {\n",
      "                        \"page_no\": 2,\n",
      "                        \"bbox\": {\n",
      "                            \"l\": 71.56,\n",
      "                            \"t\": 670.085,\n",
      "                            \"r\": 304.625,\n",
      "                            \"b\": 659.637,\n",
      "                            \"coord_origin\": \"BOTTOMLEFT\"\n",
      "                        },\n",
      "                        \"charspan\": [\n",
      "                            0,\n",
      "                            42\n",
      "                        ]\n",
      "                    }\n",
      "                ]\n",
      "            }\n",
      "        ],\n",
      "        \"headings\": [\n",
      "            \"2 SVM classifier\"\n",
      "        ],\n",
      "        \"origin\": {\n",
      "            \"mimetype\": \"application/pdf\",\n",
      "            \"binary_hash\": 4489139850393604518,\n",
      "            \"filename\": \"TD- Classification I.pdf\"\n",
      "        }\n",
      "    }\n",
      "}\n"
     ]
    }
   ],
   "execution_count": 56
  }
 ],
 "metadata": {
  "kernelspec": {
   "display_name": "Python 3",
   "language": "python",
   "name": "python3"
  },
  "language_info": {
   "codemirror_mode": {
    "name": "ipython",
    "version": 2
   },
   "file_extension": ".py",
   "mimetype": "text/x-python",
   "name": "python",
   "nbconvert_exporter": "python",
   "pygments_lexer": "ipython2",
   "version": "2.7.6"
  }
 },
 "nbformat": 4,
 "nbformat_minor": 5
}
