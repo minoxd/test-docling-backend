{
 "cells": [
  {
   "metadata": {
    "ExecuteTime": {
     "end_time": "2025-07-28T06:58:34.401522Z",
     "start_time": "2025-07-28T06:58:21.382870Z"
    }
   },
   "cell_type": "code",
   "source": [
    "from docling.document_converter import DocumentConverter\n",
    "# from docling_core.transforms.chunker import DocChunk\n",
    "# from docling_core.transforms.chunker import HierarchicalChunker\n",
    "from docling_core.transforms.chunker.hybrid_chunker import HybridChunker\n",
    "\n",
    "import pprint\n",
    "# from copy import deepcopy\n",
    "# import my_utils"
   ],
   "id": "560ccffc5d6cc77",
   "outputs": [
    {
     "name": "stderr",
     "output_type": "stream",
     "text": [
      "D:\\Documents\\DSC\\FPL\\AICHATBOT\\test-docling-backend\\.venv\\Lib\\site-packages\\tqdm\\auto.py:21: TqdmWarning: IProgress not found. Please update jupyter and ipywidgets. See https://ipywidgets.readthedocs.io/en/stable/user_install.html\n",
      "  from .autonotebook import tqdm as notebook_tqdm\n"
     ]
    }
   ],
   "execution_count": 1
  },
  {
   "metadata": {
    "ExecuteTime": {
     "end_time": "2025-07-28T07:20:42.719389Z",
     "start_time": "2025-07-28T07:20:42.677178Z"
    }
   },
   "cell_type": "code",
   "source": [
    "# source = \"D:/App/IDM Downloads/Documents/image-based-pdf-sample.pdf\"\n",
    "source = \"Flower-Parts-Diagrams.pdf\"\n",
    "converter = DocumentConverter()"
   ],
   "id": "2ccf5cfee602b878",
   "outputs": [],
   "execution_count": 16
  },
  {
   "metadata": {
    "ExecuteTime": {
     "end_time": "2025-07-28T07:21:28.975834Z",
     "start_time": "2025-07-28T07:20:44.997963Z"
    }
   },
   "cell_type": "code",
   "source": [
    "%%time\n",
    "result = converter.convert(source)"
   ],
   "id": "d8a761a189b56260",
   "outputs": [
    {
     "name": "stderr",
     "output_type": "stream",
     "text": [
      "D:\\Documents\\DSC\\FPL\\AICHATBOT\\test-docling-backend\\.venv\\Lib\\site-packages\\torch\\utils\\data\\dataloader.py:665: UserWarning: 'pin_memory' argument is set as true but no accelerator is found, then device pinned memory won't be used.\n",
      "  warnings.warn(warn_msg)\n",
      "D:\\Documents\\DSC\\FPL\\AICHATBOT\\test-docling-backend\\.venv\\Lib\\site-packages\\torch\\utils\\data\\dataloader.py:665: UserWarning: 'pin_memory' argument is set as true but no accelerator is found, then device pinned memory won't be used.\n",
      "  warnings.warn(warn_msg)\n"
     ]
    },
    {
     "name": "stdout",
     "output_type": "stream",
     "text": [
      "CPU times: total: 9.39 s\n",
      "Wall time: 43.9 s\n"
     ]
    }
   ],
   "execution_count": 17
  },
  {
   "metadata": {
    "ExecuteTime": {
     "end_time": "2025-07-28T07:10:47.429400Z",
     "start_time": "2025-07-28T07:10:47.377480Z"
    }
   },
   "cell_type": "code",
   "source": [
    "from docling_core.types.doc import ImageRefMode\n",
    "\n",
    "with open('raw.html', 'w', encoding='utf-8') as f:\n",
    "    f.write(result.document.export_to_html(image_mode=ImageRefMode.EMBEDDED))"
   ],
   "id": "c72e7def50ddc36c",
   "outputs": [
    {
     "name": "stderr",
     "output_type": "stream",
     "text": [
      "Could not get image\n",
      "Could not get image\n"
     ]
    }
   ],
   "execution_count": 15
  },
  {
   "metadata": {
    "ExecuteTime": {
     "end_time": "2025-07-28T07:05:54.051610Z",
     "start_time": "2025-07-28T07:05:54.047929Z"
    }
   },
   "cell_type": "code",
   "source": "result.document.pictures[0].image",
   "id": "532caa0876b609c5",
   "outputs": [],
   "execution_count": 10
  },
  {
   "metadata": {
    "ExecuteTime": {
     "end_time": "2025-07-24T04:57:48.018859Z",
     "start_time": "2025-07-24T04:57:48.010061Z"
    }
   },
   "cell_type": "code",
   "source": [
    "with open('raw.md', 'w', encoding='utf-8') as f:\n",
    "    f.write(result.document.export_to_markdown())"
   ],
   "id": "415f77cfc321a1bc",
   "outputs": [],
   "execution_count": 31
  },
  {
   "metadata": {
    "ExecuteTime": {
     "end_time": "2025-07-24T04:52:35.756450Z",
     "start_time": "2025-07-24T04:52:35.742700Z"
    }
   },
   "cell_type": "code",
   "source": "result.document.export_to_element_tree()",
   "id": "2ab886950440fb2d",
   "outputs": [
    {
     "data": {
      "text/plain": [
       "'0: unspecified with name=_root_\\n 1: picture\\n 2: section_header: This is an example of an Image-based PDF\" (also known as image-only PDFs).\\n 3: text: Image-based PDFs are typically created through scanning paper in a copier; photographs Or screenshot'"
      ]
     },
     "execution_count": 24,
     "metadata": {},
     "output_type": "execute_result"
    }
   ],
   "execution_count": 24
  },
  {
   "metadata": {
    "ExecuteTime": {
     "end_time": "2025-07-24T04:45:58.301870Z",
     "start_time": "2025-07-24T04:45:58.282766Z"
    }
   },
   "cell_type": "code",
   "source": "result.document.pictures[0]",
   "id": "3decada818f99e71",
   "outputs": [
    {
     "data": {
      "text/plain": [
       "PictureItem(self_ref='#/pictures/0', parent=RefItem(cref='#/body'), children=[], content_layer=<ContentLayer.BODY: 'body'>, label=<DocItemLabel.PICTURE: 'picture'>, prov=[ProvenanceItem(page_no=1, bbox=BoundingBox(l=257.1493225097656, t=716.1084442138672, r=353.4802551269531, b=621.5366516113281, coord_origin=<CoordOrigin.BOTTOMLEFT: 'BOTTOMLEFT'>), charspan=(0, 0))], captions=[], references=[], footnotes=[], image=None, annotations=[])"
      ]
     },
     "execution_count": 23,
     "metadata": {},
     "output_type": "execute_result"
    }
   ],
   "execution_count": 23
  },
  {
   "metadata": {
    "ExecuteTime": {
     "end_time": "2025-07-23T07:36:14.250742Z",
     "start_time": "2025-07-23T07:36:13.114813Z"
    }
   },
   "cell_type": "code",
   "source": "chunker = HybridChunker()",
   "id": "5947fa7c6c228e75",
   "outputs": [],
   "execution_count": 5
  },
  {
   "metadata": {
    "ExecuteTime": {
     "end_time": "2025-07-23T07:36:14.412981Z",
     "start_time": "2025-07-23T07:36:14.330008Z"
    }
   },
   "cell_type": "code",
   "source": [
    "chunk_iter = chunker.chunk(result.document)\n",
    "chunks: list[DocChunk] = list(chunk_iter)"
   ],
   "id": "562a94733ffe66c3",
   "outputs": [],
   "execution_count": 6
  },
  {
   "metadata": {
    "ExecuteTime": {
     "end_time": "2025-07-23T07:36:14.485709Z",
     "start_time": "2025-07-23T07:36:14.468928Z"
    }
   },
   "cell_type": "code",
   "source": [
    "# chunks[0].model_dump()\n",
    "chunks[0].export_json_dict()"
   ],
   "id": "262695b71e895d63",
   "outputs": [
    {
     "data": {
      "text/plain": [
       "{'text': 'The objective is to study the use of the method k-nn and\\n1. Select two datasets with labels.\\n2. Run k-nn on these two datasets. Calculate the classification error (by comparing the class labels obtained with the prediction and the original labels of test data).\\n3. Vary the value of k, comment on the results\\n4. Try to normalize the input dataset, is the performance better?\\n5. Apply PCA and SVD on the dataset, then what is the performance of k-nn on the new projected data? Justify the answer.\\n6. Propose an approach to improve the performance of k-nn with the use of k-cross validation.\\n7. Apply leave-one-out and calculate the error of classification.',\n",
       " 'meta': {'schema_name': 'docling_core.transforms.chunker.DocMeta',\n",
       "  'version': '1.0.0',\n",
       "  'doc_items': [{'self_ref': '#/texts/3',\n",
       "    'parent': {'$ref': '#/body'},\n",
       "    'children': [],\n",
       "    'content_layer': 'body',\n",
       "    'label': 'text',\n",
       "    'prov': [{'page_no': 1,\n",
       "      'bbox': {'l': 54.0,\n",
       "       't': 532.54,\n",
       "       'r': 348.473,\n",
       "       'b': 522.092,\n",
       "       'coord_origin': 'BOTTOMLEFT'},\n",
       "      'charspan': [0, 56]}]},\n",
       "   {'self_ref': '#/texts/4',\n",
       "    'parent': {'$ref': '#/groups/0'},\n",
       "    'children': [],\n",
       "    'content_layer': 'body',\n",
       "    'label': 'list_item',\n",
       "    'prov': [{'page_no': 1,\n",
       "      'bbox': {'l': 68.307,\n",
       "       't': 500.909,\n",
       "       'r': 243.762,\n",
       "       'b': 490.461,\n",
       "       'coord_origin': 'BOTTOMLEFT'},\n",
       "      'charspan': [0, 35]}]},\n",
       "   {'self_ref': '#/texts/5',\n",
       "    'parent': {'$ref': '#/groups/0'},\n",
       "    'children': [],\n",
       "    'content_layer': 'body',\n",
       "    'label': 'list_item',\n",
       "    'prov': [{'page_no': 1,\n",
       "      'bbox': {'l': 68.307,\n",
       "       't': 469.278,\n",
       "       'r': 557.994,\n",
       "       'b': 437.161,\n",
       "       'coord_origin': 'BOTTOMLEFT'},\n",
       "      'charspan': [0, 168]}]},\n",
       "   {'self_ref': '#/texts/6',\n",
       "    'parent': {'$ref': '#/groups/0'},\n",
       "    'children': [],\n",
       "    'content_layer': 'body',\n",
       "    'label': 'list_item',\n",
       "    'prov': [{'page_no': 1,\n",
       "      'bbox': {'l': 68.307,\n",
       "       't': 415.978,\n",
       "       'r': 308.733,\n",
       "       'b': 405.53,\n",
       "       'coord_origin': 'BOTTOMLEFT'},\n",
       "      'charspan': [0, 46]}]},\n",
       "   {'self_ref': '#/texts/7',\n",
       "    'parent': {'$ref': '#/groups/0'},\n",
       "    'children': [],\n",
       "    'content_layer': 'body',\n",
       "    'label': 'list_item',\n",
       "    'prov': [{'page_no': 1,\n",
       "      'bbox': {'l': 68.307,\n",
       "       't': 384.346,\n",
       "       'r': 404.011,\n",
       "       'b': 373.898,\n",
       "       'coord_origin': 'BOTTOMLEFT'},\n",
       "      'charspan': [0, 65]}]},\n",
       "   {'self_ref': '#/texts/8',\n",
       "    'parent': {'$ref': '#/groups/0'},\n",
       "    'children': [],\n",
       "    'content_layer': 'body',\n",
       "    'label': 'list_item',\n",
       "    'prov': [{'page_no': 1,\n",
       "      'bbox': {'l': 68.307,\n",
       "       't': 352.715,\n",
       "       'r': 557.997,\n",
       "       'b': 320.598,\n",
       "       'coord_origin': 'BOTTOMLEFT'},\n",
       "      'charspan': [0, 120]}]},\n",
       "   {'self_ref': '#/texts/9',\n",
       "    'parent': {'$ref': '#/groups/0'},\n",
       "    'children': [],\n",
       "    'content_layer': 'body',\n",
       "    'label': 'list_item',\n",
       "    'prov': [{'page_no': 1,\n",
       "      'bbox': {'l': 68.307,\n",
       "       't': 299.415,\n",
       "       'r': 553.877,\n",
       "       'b': 288.967,\n",
       "       'coord_origin': 'BOTTOMLEFT'},\n",
       "      'charspan': [0, 93]}]},\n",
       "   {'self_ref': '#/texts/10',\n",
       "    'parent': {'$ref': '#/groups/0'},\n",
       "    'children': [],\n",
       "    'content_layer': 'body',\n",
       "    'label': 'list_item',\n",
       "    'prov': [{'page_no': 1,\n",
       "      'bbox': {'l': 68.307,\n",
       "       't': 267.783,\n",
       "       'r': 390.999,\n",
       "       'b': 257.33500000000004,\n",
       "       'coord_origin': 'BOTTOMLEFT'},\n",
       "      'charspan': [0, 65]}]}],\n",
       "  'headings': ['1 K-nearest neighbor classification'],\n",
       "  'origin': {'mimetype': 'application/pdf',\n",
       "   'binary_hash': 4489139850393604518,\n",
       "   'filename': 'TD- Classification I.pdf'}}}"
      ]
     },
     "execution_count": 7,
     "metadata": {},
     "output_type": "execute_result"
    }
   ],
   "execution_count": 7
  },
  {
   "metadata": {
    "ExecuteTime": {
     "end_time": "2025-07-18T09:56:59.474661Z",
     "start_time": "2025-07-18T09:56:59.439261Z"
    }
   },
   "cell_type": "code",
   "source": "pprint.pprint(chunks[0].export_json_dict(), sort_dicts=False)",
   "id": "e45d457c96d396b",
   "outputs": [
    {
     "name": "stdout",
     "output_type": "stream",
     "text": [
      "{'text': 'The objective is to study the use of the method k-nn and\\n'\n",
      "         '1. Select two datasets with labels.\\n'\n",
      "         '2. Run k-nn on these two datasets. Calculate the classification '\n",
      "         'error (by comparing the class labels obtained with the prediction '\n",
      "         'and the original labels of test data).\\n'\n",
      "         '3. Vary the value of k, comment on the results\\n'\n",
      "         '4. Try to normalize the input dataset, is the performance better?\\n'\n",
      "         '5. Apply PCA and SVD on the dataset, then what is the performance of '\n",
      "         'k-nn on the new projected data? Justify the answer.\\n'\n",
      "         '6. Propose an approach to improve the performance of k-nn with the '\n",
      "         'use of k-cross validation.\\n'\n",
      "         '7. Apply leave-one-out and calculate the error of classification.',\n",
      " 'meta': {'schema_name': 'docling_core.transforms.chunker.DocMeta',\n",
      "          'version': '1.0.0',\n",
      "          'doc_items': [{'self_ref': '#/texts/3',\n",
      "                         'parent': {'$ref': '#/body'},\n",
      "                         'children': [],\n",
      "                         'content_layer': 'body',\n",
      "                         'label': 'text',\n",
      "                         'prov': [{'page_no': 1,\n",
      "                                   'bbox': {'l': 54.0,\n",
      "                                            't': 532.54,\n",
      "                                            'r': 348.473,\n",
      "                                            'b': 522.092,\n",
      "                                            'coord_origin': 'BOTTOMLEFT'},\n",
      "                                   'charspan': [0, 56]}]},\n",
      "                        {'self_ref': '#/texts/4',\n",
      "                         'parent': {'$ref': '#/groups/0'},\n",
      "                         'children': [],\n",
      "                         'content_layer': 'body',\n",
      "                         'label': 'list_item',\n",
      "                         'prov': [{'page_no': 1,\n",
      "                                   'bbox': {'l': 68.307,\n",
      "                                            't': 500.909,\n",
      "                                            'r': 243.762,\n",
      "                                            'b': 490.461,\n",
      "                                            'coord_origin': 'BOTTOMLEFT'},\n",
      "                                   'charspan': [0, 35]}]},\n",
      "                        {'self_ref': '#/texts/5',\n",
      "                         'parent': {'$ref': '#/groups/0'},\n",
      "                         'children': [],\n",
      "                         'content_layer': 'body',\n",
      "                         'label': 'list_item',\n",
      "                         'prov': [{'page_no': 1,\n",
      "                                   'bbox': {'l': 68.307,\n",
      "                                            't': 469.278,\n",
      "                                            'r': 557.994,\n",
      "                                            'b': 437.161,\n",
      "                                            'coord_origin': 'BOTTOMLEFT'},\n",
      "                                   'charspan': [0, 168]}]},\n",
      "                        {'self_ref': '#/texts/6',\n",
      "                         'parent': {'$ref': '#/groups/0'},\n",
      "                         'children': [],\n",
      "                         'content_layer': 'body',\n",
      "                         'label': 'list_item',\n",
      "                         'prov': [{'page_no': 1,\n",
      "                                   'bbox': {'l': 68.307,\n",
      "                                            't': 415.978,\n",
      "                                            'r': 308.733,\n",
      "                                            'b': 405.53,\n",
      "                                            'coord_origin': 'BOTTOMLEFT'},\n",
      "                                   'charspan': [0, 46]}]},\n",
      "                        {'self_ref': '#/texts/7',\n",
      "                         'parent': {'$ref': '#/groups/0'},\n",
      "                         'children': [],\n",
      "                         'content_layer': 'body',\n",
      "                         'label': 'list_item',\n",
      "                         'prov': [{'page_no': 1,\n",
      "                                   'bbox': {'l': 68.307,\n",
      "                                            't': 384.346,\n",
      "                                            'r': 404.011,\n",
      "                                            'b': 373.898,\n",
      "                                            'coord_origin': 'BOTTOMLEFT'},\n",
      "                                   'charspan': [0, 65]}]},\n",
      "                        {'self_ref': '#/texts/8',\n",
      "                         'parent': {'$ref': '#/groups/0'},\n",
      "                         'children': [],\n",
      "                         'content_layer': 'body',\n",
      "                         'label': 'list_item',\n",
      "                         'prov': [{'page_no': 1,\n",
      "                                   'bbox': {'l': 68.307,\n",
      "                                            't': 352.715,\n",
      "                                            'r': 557.997,\n",
      "                                            'b': 320.598,\n",
      "                                            'coord_origin': 'BOTTOMLEFT'},\n",
      "                                   'charspan': [0, 120]}]},\n",
      "                        {'self_ref': '#/texts/9',\n",
      "                         'parent': {'$ref': '#/groups/0'},\n",
      "                         'children': [],\n",
      "                         'content_layer': 'body',\n",
      "                         'label': 'list_item',\n",
      "                         'prov': [{'page_no': 1,\n",
      "                                   'bbox': {'l': 68.307,\n",
      "                                            't': 299.415,\n",
      "                                            'r': 553.877,\n",
      "                                            'b': 288.967,\n",
      "                                            'coord_origin': 'BOTTOMLEFT'},\n",
      "                                   'charspan': [0, 93]}]},\n",
      "                        {'self_ref': '#/texts/10',\n",
      "                         'parent': {'$ref': '#/groups/0'},\n",
      "                         'children': [],\n",
      "                         'content_layer': 'body',\n",
      "                         'label': 'list_item',\n",
      "                         'prov': [{'page_no': 1,\n",
      "                                   'bbox': {'l': 68.307,\n",
      "                                            't': 267.783,\n",
      "                                            'r': 390.999,\n",
      "                                            'b': 257.33500000000004,\n",
      "                                            'coord_origin': 'BOTTOMLEFT'},\n",
      "                                   'charspan': [0, 65]}]}],\n",
      "          'headings': ['1 K-nearest neighbor classification'],\n",
      "          'origin': {'mimetype': 'application/pdf',\n",
      "                     'binary_hash': 4489139850393604518,\n",
      "                     'filename': 'TD- Classification I.pdf'}}}\n"
     ]
    }
   ],
   "execution_count": 32
  },
  {
   "metadata": {
    "ExecuteTime": {
     "end_time": "2025-07-18T10:02:09.887408Z",
     "start_time": "2025-07-18T10:02:09.874055Z"
    }
   },
   "cell_type": "code",
   "source": [
    "graph = {}\n",
    "for j in range(len(chunks)):\n",
    "    meta = chunks[j].export_json_dict()['meta']\n",
    "    graph[j] = {}\n",
    "    for i in range(len(meta['doc_items'])):\n",
    "        doc_item = meta['doc_items'][i]\n",
    "        self_ref = doc_item['self_ref']\n",
    "        if len(doc_item['parent']) != 1:\n",
    "            print('warning len parent != 1')\n",
    "        if len(doc_item['children']) != 0:\n",
    "            print('warning len children != 0')\n",
    "        parent_ref = doc_item['parent']['$ref']\n",
    "\n",
    "        if parent_ref not in graph[j]:\n",
    "            graph[j][parent_ref] = []\n",
    "        graph[j][parent_ref].append(self_ref)\n",
    "pprint.pprint(graph, sort_dicts=False)"
   ],
   "id": "4f00cb9b49309673",
   "outputs": [
    {
     "name": "stdout",
     "output_type": "stream",
     "text": [
      "{0: {'#/body': ['#/texts/3'],\n",
      "     '#/groups/0': ['#/texts/4',\n",
      "                    '#/texts/5',\n",
      "                    '#/texts/6',\n",
      "                    '#/texts/7',\n",
      "                    '#/texts/8',\n",
      "                    '#/texts/9',\n",
      "                    '#/texts/10']},\n",
      " 1: {'#/body': ['#/texts/12'],\n",
      "     '#/groups/1': ['#/texts/13', '#/texts/14'],\n",
      "     '#/groups/2': ['#/texts/16', '#/texts/17', '#/texts/18']}}\n"
     ]
    }
   ],
   "execution_count": 36
  },
  {
   "metadata": {},
   "cell_type": "code",
   "outputs": [],
   "execution_count": null,
   "source": [
    "class Node:\n",
    "    def __init__(self, data):\n",
    "        self.data = data\n",
    "        self.children = []\n",
    "    def add_child(self, child):\n",
    "        self.children.append(child)"
   ],
   "id": "94f08adca61a56c5"
  },
  {
   "metadata": {
    "ExecuteTime": {
     "end_time": "2025-07-17T04:51:13.543478Z",
     "start_time": "2025-07-17T04:51:13.522313Z"
    }
   },
   "cell_type": "code",
   "source": "pprint.pprint(chunks[1].export_json_dict(), sort_dicts=False)",
   "id": "d26925fb57d86dc",
   "outputs": [
    {
     "name": "stdout",
     "output_type": "stream",
     "text": [
      "{'text': '1. Select two datasets with labels.\\n'\n",
      "         '2. Run k-nn on these two datasets. Calculate the classification '\n",
      "         'error (by comparing the class labels obtained with the prediction '\n",
      "         'and the original labels of test data).\\n'\n",
      "         '3. Vary the value of k, comment on the results\\n'\n",
      "         '4. Try to normalize the input dataset, is the performance better?\\n'\n",
      "         '5. Apply PCA and SVD on the dataset, then what is the performance of '\n",
      "         'k-nn on the new projected data? Justify the answer.\\n'\n",
      "         '6. Propose an approach to improve the performance of k-nn with the '\n",
      "         'use of k-cross validation.\\n'\n",
      "         '7. Apply leave-one-out and calculate the error of classification.',\n",
      " 'meta': {'schema_name': 'docling_core.transforms.chunker.DocMeta',\n",
      "          'version': '1.0.0',\n",
      "          'doc_items': [{'self_ref': '#/texts/4',\n",
      "                         'parent': {'$ref': '#/groups/0'},\n",
      "                         'children': [],\n",
      "                         'content_layer': 'body',\n",
      "                         'label': 'list_item',\n",
      "                         'prov': [{'page_no': 1,\n",
      "                                   'bbox': {'l': 68.307,\n",
      "                                            't': 500.909,\n",
      "                                            'r': 243.762,\n",
      "                                            'b': 490.461,\n",
      "                                            'coord_origin': 'BOTTOMLEFT'},\n",
      "                                   'charspan': [0, 35]}]},\n",
      "                        {'self_ref': '#/texts/5',\n",
      "                         'parent': {'$ref': '#/groups/0'},\n",
      "                         'children': [],\n",
      "                         'content_layer': 'body',\n",
      "                         'label': 'list_item',\n",
      "                         'prov': [{'page_no': 1,\n",
      "                                   'bbox': {'l': 68.307,\n",
      "                                            't': 469.278,\n",
      "                                            'r': 557.994,\n",
      "                                            'b': 437.161,\n",
      "                                            'coord_origin': 'BOTTOMLEFT'},\n",
      "                                   'charspan': [0, 168]}]},\n",
      "                        {'self_ref': '#/texts/6',\n",
      "                         'parent': {'$ref': '#/groups/0'},\n",
      "                         'children': [],\n",
      "                         'content_layer': 'body',\n",
      "                         'label': 'list_item',\n",
      "                         'prov': [{'page_no': 1,\n",
      "                                   'bbox': {'l': 68.307,\n",
      "                                            't': 415.978,\n",
      "                                            'r': 308.733,\n",
      "                                            'b': 405.53,\n",
      "                                            'coord_origin': 'BOTTOMLEFT'},\n",
      "                                   'charspan': [0, 46]}]},\n",
      "                        {'self_ref': '#/texts/7',\n",
      "                         'parent': {'$ref': '#/groups/0'},\n",
      "                         'children': [],\n",
      "                         'content_layer': 'body',\n",
      "                         'label': 'list_item',\n",
      "                         'prov': [{'page_no': 1,\n",
      "                                   'bbox': {'l': 68.307,\n",
      "                                            't': 384.346,\n",
      "                                            'r': 404.011,\n",
      "                                            'b': 373.898,\n",
      "                                            'coord_origin': 'BOTTOMLEFT'},\n",
      "                                   'charspan': [0, 65]}]},\n",
      "                        {'self_ref': '#/texts/8',\n",
      "                         'parent': {'$ref': '#/groups/0'},\n",
      "                         'children': [],\n",
      "                         'content_layer': 'body',\n",
      "                         'label': 'list_item',\n",
      "                         'prov': [{'page_no': 1,\n",
      "                                   'bbox': {'l': 68.307,\n",
      "                                            't': 352.715,\n",
      "                                            'r': 557.997,\n",
      "                                            'b': 320.598,\n",
      "                                            'coord_origin': 'BOTTOMLEFT'},\n",
      "                                   'charspan': [0, 120]}]},\n",
      "                        {'self_ref': '#/texts/9',\n",
      "                         'parent': {'$ref': '#/groups/0'},\n",
      "                         'children': [],\n",
      "                         'content_layer': 'body',\n",
      "                         'label': 'list_item',\n",
      "                         'prov': [{'page_no': 1,\n",
      "                                   'bbox': {'l': 68.307,\n",
      "                                            't': 299.415,\n",
      "                                            'r': 553.877,\n",
      "                                            'b': 288.967,\n",
      "                                            'coord_origin': 'BOTTOMLEFT'},\n",
      "                                   'charspan': [0, 93]}]},\n",
      "                        {'self_ref': '#/texts/10',\n",
      "                         'parent': {'$ref': '#/groups/0'},\n",
      "                         'children': [],\n",
      "                         'content_layer': 'body',\n",
      "                         'label': 'list_item',\n",
      "                         'prov': [{'page_no': 1,\n",
      "                                   'bbox': {'l': 68.307,\n",
      "                                            't': 267.783,\n",
      "                                            'r': 390.999,\n",
      "                                            'b': 257.33500000000004,\n",
      "                                            'coord_origin': 'BOTTOMLEFT'},\n",
      "                                   'charspan': [0, 65]}]}],\n",
      "          'headings': ['1 K-nearest neighbor classification'],\n",
      "          'origin': {'mimetype': 'application/pdf',\n",
      "                     'binary_hash': 4489139850393604518,\n",
      "                     'filename': 'TD- Classification I.pdf'}}}\n"
     ]
    }
   ],
   "execution_count": 68
  },
  {
   "metadata": {
    "ExecuteTime": {
     "end_time": "2025-07-17T04:37:20.427711Z",
     "start_time": "2025-07-17T04:37:20.421748Z"
    }
   },
   "cell_type": "code",
   "source": [
    "\n",
    "print(json.dumps(json.loads(str(chunks[4].export_json_dict()).replace('\\'', '\\\"')), indent=4))"
   ],
   "id": "8f76d74404b81ab5",
   "outputs": [
    {
     "name": "stdout",
     "output_type": "stream",
     "text": [
      "{\n",
      "    \"text\": \"- \\u277c Set up the SVM parameters suitable to the selected datasets.\\n- \\u277c What is the performance of SVMs?\\n- \\u277c How can SVM handle multi-class datasets?\",\n",
      "    \"meta\": {\n",
      "        \"schema_name\": \"docling_core.transforms.chunker.DocMeta\",\n",
      "        \"version\": \"1.0.0\",\n",
      "        \"doc_items\": [\n",
      "            {\n",
      "                \"self_ref\": \"#/texts/16\",\n",
      "                \"parent\": {\n",
      "                    \"$ref\": \"#/groups/2\"\n",
      "                },\n",
      "                \"children\": [],\n",
      "                \"content_layer\": \"body\",\n",
      "                \"label\": \"list_item\",\n",
      "                \"prov\": [\n",
      "                    {\n",
      "                        \"page_no\": 2,\n",
      "                        \"bbox\": {\n",
      "                            \"l\": 71.56,\n",
      "                            \"t\": 733.348,\n",
      "                            \"r\": 397.696,\n",
      "                            \"b\": 722.9,\n",
      "                            \"coord_origin\": \"BOTTOMLEFT\"\n",
      "                        },\n",
      "                        \"charspan\": [\n",
      "                            0,\n",
      "                            62\n",
      "                        ]\n",
      "                    }\n",
      "                ]\n",
      "            },\n",
      "            {\n",
      "                \"self_ref\": \"#/texts/17\",\n",
      "                \"parent\": {\n",
      "                    \"$ref\": \"#/groups/2\"\n",
      "                },\n",
      "                \"children\": [],\n",
      "                \"content_layer\": \"body\",\n",
      "                \"label\": \"list_item\",\n",
      "                \"prov\": [\n",
      "                    {\n",
      "                        \"page_no\": 2,\n",
      "                        \"bbox\": {\n",
      "                            \"l\": 71.56,\n",
      "                            \"t\": 701.717,\n",
      "                            \"r\": 264.503,\n",
      "                            \"b\": 691.269,\n",
      "                            \"coord_origin\": \"BOTTOMLEFT\"\n",
      "                        },\n",
      "                        \"charspan\": [\n",
      "                            0,\n",
      "                            34\n",
      "                        ]\n",
      "                    }\n",
      "                ]\n",
      "            },\n",
      "            {\n",
      "                \"self_ref\": \"#/texts/18\",\n",
      "                \"parent\": {\n",
      "                    \"$ref\": \"#/groups/2\"\n",
      "                },\n",
      "                \"children\": [],\n",
      "                \"content_layer\": \"body\",\n",
      "                \"label\": \"list_item\",\n",
      "                \"prov\": [\n",
      "                    {\n",
      "                        \"page_no\": 2,\n",
      "                        \"bbox\": {\n",
      "                            \"l\": 71.56,\n",
      "                            \"t\": 670.085,\n",
      "                            \"r\": 304.625,\n",
      "                            \"b\": 659.637,\n",
      "                            \"coord_origin\": \"BOTTOMLEFT\"\n",
      "                        },\n",
      "                        \"charspan\": [\n",
      "                            0,\n",
      "                            42\n",
      "                        ]\n",
      "                    }\n",
      "                ]\n",
      "            }\n",
      "        ],\n",
      "        \"headings\": [\n",
      "            \"2 SVM classifier\"\n",
      "        ],\n",
      "        \"origin\": {\n",
      "            \"mimetype\": \"application/pdf\",\n",
      "            \"binary_hash\": 4489139850393604518,\n",
      "            \"filename\": \"TD- Classification I.pdf\"\n",
      "        }\n",
      "    }\n",
      "}\n"
     ]
    }
   ],
   "execution_count": 56
  }
 ],
 "metadata": {
  "kernelspec": {
   "display_name": "Python 3",
   "language": "python",
   "name": "python3"
  },
  "language_info": {
   "codemirror_mode": {
    "name": "ipython",
    "version": 2
   },
   "file_extension": ".py",
   "mimetype": "text/x-python",
   "name": "python",
   "nbconvert_exporter": "python",
   "pygments_lexer": "ipython2",
   "version": "2.7.6"
  }
 },
 "nbformat": 4,
 "nbformat_minor": 5
}
