{
 "cells": [
  {
   "metadata": {},
   "cell_type": "markdown",
   "source": "### python api tryout",
   "id": "c255825afcef02a3"
  },
  {
   "metadata": {},
   "cell_type": "markdown",
   "source": "##### base",
   "id": "7bd8a6e0e70c5083"
  },
  {
   "metadata": {
    "ExecuteTime": {
     "end_time": "2025-08-12T03:37:39.274315Z",
     "start_time": "2025-08-12T03:37:39.262489Z"
    }
   },
   "cell_type": "code",
   "source": [
    "import pprint\n",
    "from pathlib import Path\n",
    "from urllib.parse import unquote\n",
    "\n",
    "import requests\n",
    "from bs4 import BeautifulSoup\n",
    "from bs4.element import Tag\n",
    "from docling.datamodel.base_models import InputFormat\n",
    "from docling.datamodel.document import ConversionResult\n",
    "from docling.datamodel.pipeline_options import PdfPipelineOptions\n",
    "from docling.document_converter import DocumentConverter, PdfFormatOption\n",
    "from docling_core.transforms.chunker import BaseChunk, DocChunk\n",
    "from docling_core.transforms.chunker.hybrid_chunker import HybridChunker\n",
    "from docling_core.types.doc import ImageRefMode\n",
    "from dotenv import dotenv_values"
   ],
   "id": "560ccffc5d6cc77",
   "outputs": [],
   "execution_count": 16
  },
  {
   "metadata": {
    "ExecuteTime": {
     "end_time": "2025-08-12T03:37:39.305199Z",
     "start_time": "2025-08-12T03:37:39.297973Z"
    }
   },
   "cell_type": "code",
   "source": [
    "def create_converter():\n",
    "    pipeline_options = PdfPipelineOptions(\n",
    "        generate_picture_images=True,  # Generate base64-encoded images\n",
    "        # do_picture_classification=True,  # Classify images (optional, but aligns with CLI)\n",
    "        images_scale=3.0,\n",
    "    )\n",
    "\n",
    "    converter = DocumentConverter(\n",
    "        format_options={\n",
    "            InputFormat.PDF: PdfFormatOption(pipeline_options=pipeline_options)\n",
    "        }\n",
    "    )\n",
    "    return converter"
   ],
   "id": "700793ec5efef87b",
   "outputs": [],
   "execution_count": 17
  },
  {
   "metadata": {
    "ExecuteTime": {
     "end_time": "2025-08-12T03:37:39.350656Z",
     "start_time": "2025-08-12T03:37:39.346075Z"
    }
   },
   "cell_type": "code",
   "source": [
    "def create_chunker():\n",
    "    chunker = HybridChunker()\n",
    "    return chunker"
   ],
   "id": "3f1f863937a01207",
   "outputs": [],
   "execution_count": 18
  },
  {
   "metadata": {
    "ExecuteTime": {
     "end_time": "2025-08-12T03:37:39.416403Z",
     "start_time": "2025-08-12T03:37:39.408993Z"
    }
   },
   "cell_type": "code",
   "source": [
    "class Node(object):\n",
    "\n",
    "    def __init__(self, title, children=None):\n",
    "        self.title = title\n",
    "        self.children = children or []\n",
    "\n",
    "    def __str__(self):\n",
    "        return self.title\n",
    "\n",
    "    # depth first search\n",
    "    def __iter__(self):\n",
    "        yield self\n",
    "        for child in self.children:\n",
    "            for node in child:\n",
    "                yield node"
   ],
   "id": "2b0404750f1a7cff",
   "outputs": [],
   "execution_count": 19
  },
  {
   "metadata": {
    "ExecuteTime": {
     "end_time": "2025-08-12T03:37:39.459663Z",
     "start_time": "2025-08-12T03:37:39.450335Z"
    }
   },
   "cell_type": "code",
   "source": [
    "def construct_chunk_tree(chunks: list[BaseChunk], tree_title: str = 'root'):\n",
    "    tree = Node(tree_title)\n",
    "    node_dict = {tree_title: tree}\n",
    "\n",
    "    for idx, chunk in enumerate(chunks):\n",
    "        chunk_json_dict = chunk.export_json_dict()\n",
    "        headings = [tree_title]\n",
    "        headings.extend(chunk_json_dict['meta']['headings'])\n",
    "\n",
    "        for heading in headings:\n",
    "            if heading not in node_dict:\n",
    "                node_dict[heading] = Node(heading)\n",
    "\n",
    "        while len(headings) >= 2:\n",
    "            node = node_dict[headings[0]]\n",
    "            child_node = node_dict[headings[1]]\n",
    "            if child_node not in node.children:\n",
    "                node.children.append(child_node)\n",
    "            headings.pop(0)\n",
    "\n",
    "    return tree"
   ],
   "id": "3a429cb806c1fe52",
   "outputs": [],
   "execution_count": 20
  },
  {
   "metadata": {
    "ExecuteTime": {
     "end_time": "2025-08-12T03:37:39.512228Z",
     "start_time": "2025-08-12T03:37:39.503016Z"
    }
   },
   "cell_type": "code",
   "source": [
    "def save_as_html(result: ConversionResult, filename: str, image_mode: ImageRefMode, save_dir: str = 'saves'):\n",
    "    save_dir = Path(save_dir)\n",
    "    save_dir.mkdir(exist_ok=True)\n",
    "    filename = Path(save_dir, filename).with_suffix(\".html\")\n",
    "\n",
    "    artifacts_dir = filename.with_suffix(\"\")\n",
    "    artifacts_dir = artifacts_dir.with_name(artifacts_dir.name + \"_artifacts\")\n",
    "\n",
    "    result.document.save_as_html(filename=filename, artifacts_dir=artifacts_dir, image_mode=image_mode)\n",
    "\n",
    "    return filename, artifacts_dir"
   ],
   "id": "33a5884a4ed72991",
   "outputs": [],
   "execution_count": 21
  },
  {
   "metadata": {
    "ExecuteTime": {
     "end_time": "2025-08-12T03:37:39.572050Z",
     "start_time": "2025-08-12T03:37:39.566669Z"
    }
   },
   "cell_type": "code",
   "source": [
    "def extract_exported_content(soup: BeautifulSoup):\n",
    "    children_of_body = soup.body.find_all(name=True, recursive=False)\n",
    "\n",
    "    if len(children_of_body) != 1:\n",
    "        raise Exception(f'eyyo {len(children_of_body)} children in body. Expected only body_content')\n",
    "\n",
    "    body_content = children_of_body[0]\n",
    "    body_content = body_content.find_all(name=True, recursive=False)\n",
    "    return body_content"
   ],
   "id": "c98c9a3649a981fb",
   "outputs": [],
   "execution_count": 22
  },
  {
   "metadata": {
    "ExecuteTime": {
     "end_time": "2025-08-12T03:37:39.646325Z",
     "start_time": "2025-08-12T03:37:39.637567Z"
    }
   },
   "cell_type": "code",
   "source": [
    "async def upload_image(artifact: Path, imgbb_api_key: str):\n",
    "    \"\"\"\n",
    "    upload one\n",
    "    \"\"\"\n",
    "    url = \"https://api.imgbb.com/1/upload\"\n",
    "    params = {\n",
    "        # \"expiration\": 600,  # what is this\n",
    "        \"key\": imgbb_api_key,\n",
    "    }\n",
    "    try:\n",
    "        with open(artifact, 'rb') as f:\n",
    "            files = {\n",
    "                'image': f\n",
    "            }\n",
    "            response = requests.post(url, params=params, files=files)\n",
    "\n",
    "        if response.status_code == 200:\n",
    "            print(\"Upload successful!\")\n",
    "            print(response.json())\n",
    "            return response.json()['data']['url']\n",
    "        else:\n",
    "            raise Exception(f\"Upload failed with status code: {response.status_code}\")\n",
    "    except Exception as e:\n",
    "        print(e, response.text)"
   ],
   "id": "c45ea4c875c35fad",
   "outputs": [],
   "execution_count": 23
  },
  {
   "metadata": {
    "ExecuteTime": {
     "end_time": "2025-08-12T03:37:39.694663Z",
     "start_time": "2025-08-12T03:37:39.683960Z"
    }
   },
   "cell_type": "code",
   "source": [
    "async def upload_images(body_content: list[Tag], artifacts_dir: Path, config: dict):\n",
    "    figures = []\n",
    "    for child in body_content:\n",
    "        if child.name == 'figure':\n",
    "            child_of_child = child.find_all(name=True, recursive=False)\n",
    "            if len(child_of_child) == 1 and child_of_child[0].name == 'img':\n",
    "                figures.append(child)\n",
    "\n",
    "    artifacts = list(artifacts_dir.glob('*.png'))\n",
    "\n",
    "    for figure, artifact in zip(figures, artifacts):\n",
    "        img = figure.find_all(name=True, recursive=False)[0]\n",
    "        img_path = Path(artifact.parent.parent, unquote(img['src']))\n",
    "\n",
    "        # validate 2 ways of manually get image reference\n",
    "        if img_path != artifact:\n",
    "            raise Exception(f'paths unmatched. \\n{img_path}\\n{artifact}')\n",
    "\n",
    "    for figure, artifact in zip(figures, artifacts):\n",
    "        img_url = await upload_image(artifact, imgbb_api_key=config['IMGBB_API_KEY'])\n",
    "\n",
    "        img = figure.find_all(name=True, recursive=False)[0]\n",
    "        img['src'] = img_url"
   ],
   "id": "db87eec6425eaa73",
   "outputs": [],
   "execution_count": 24
  },
  {
   "metadata": {
    "ExecuteTime": {
     "end_time": "2025-08-12T07:22:10.935945Z",
     "start_time": "2025-08-12T07:22:10.925637Z"
    }
   },
   "cell_type": "code",
   "source": [
    "def generate_output(body_content: list[Tag], chunk_tree: Node):\n",
    "    indexes_chunk_begin = []\n",
    "    chunks_headings = [str(chunk) for chunk in chunk_tree]\n",
    "    chunks_headings.pop(0)\n",
    "    for idx, child in enumerate(body_content):\n",
    "        if 'h' not in child.name:\n",
    "            continue\n",
    "        if child.string in chunks_headings:\n",
    "            indexes_chunk_begin.append(idx)\n",
    "            chunks_headings.pop(0)\n",
    "    indexes_chunk_begin.append(len(body_content))\n",
    "    print(chunks_headings)\n",
    "    print(indexes_chunk_begin)\n",
    "    html_chunks = []\n",
    "    for idx in range(len(indexes_chunk_begin) - 1):\n",
    "        print(body_content[indexes_chunk_begin[idx]:indexes_chunk_begin[idx + 1]])\n",
    "        html_chunks.append(\n",
    "            ''.join([str(child) for child in body_content[indexes_chunk_begin[idx]:indexes_chunk_begin[idx + 1]]]))\n",
    "\n",
    "    return html_chunks # output tree also"
   ],
   "id": "bebfd7ce4c88cef0",
   "outputs": [],
   "execution_count": 29
  },
  {
   "metadata": {},
   "cell_type": "markdown",
   "source": "##### test",
   "id": "f290c289650c534d"
  },
  {
   "metadata": {
    "ExecuteTime": {
     "end_time": "2025-08-12T07:22:26.193642Z",
     "start_time": "2025-08-12T07:22:24.500996Z"
    }
   },
   "cell_type": "code",
   "source": [
    "o_source = \"https://docling-project.github.io/docling/\"\n",
    "o_converter = create_converter()\n",
    "o_result = o_converter.convert(o_source)\n",
    "o_chunker = create_chunker()\n",
    "\n",
    "o_chunk_iter = o_chunker.chunk(o_result.document)\n",
    "o_chunks = list(o_chunk_iter)\n",
    "\n",
    "o_chunk_tree = construct_chunk_tree(o_chunks)\n",
    "\n",
    "o_filename: str = 'o_my_raw' #todo\n",
    "o_save_results: tuple[Path, Path,] = save_as_html(result=o_result, filename=o_filename,\n",
    "                                                image_mode=ImageRefMode.REFERENCED)\n",
    "o_filename, o_artifacts_dir = o_save_results\n",
    "\n",
    "with open(o_filename, encoding='utf-8') as o_f:\n",
    "    o_soup = BeautifulSoup(''.join([o_line.strip() for o_line in o_f.readlines()]), 'html.parser')\n",
    "\n",
    "o_body_content = extract_exported_content(o_soup)\n",
    "\n",
    "o_config = dotenv_values()\n",
    "\n",
    "# await upload_images(body_content=o_body_content, artifacts_dir=o_artifacts_dir, config=o_config)\n",
    "\n",
    "o_html_chunks = generate_output(body_content=o_body_content, chunk_tree=o_chunk_tree)"
   ],
   "id": "c7c6ea6d9dae6700",
   "outputs": [
    {
     "name": "stdout",
     "output_type": "stream",
     "text": [
      "[]\n",
      "[0, 17, 19, 21, 30, 34, 36, 43]\n",
      "[<h1>Docling</h1>, <figure><figcaption><div class=\"caption\">Docling</div></figcaption></figure>, <figure><figcaption><div class=\"caption\">DS4SD%2Fdocling | Trendshift</div></figcaption></figure>, <figure><figcaption><div class=\"caption\">arXiv</div></figcaption></figure>, <figure><figcaption><div class=\"caption\">PyPI version</div></figcaption></figure>, <figure><figcaption><div class=\"caption\">PyPI - Python Version</div></figcaption></figure>, <figure><figcaption><div class=\"caption\">uv</div></figcaption></figure>, <figure><figcaption><div class=\"caption\">Ruff</div></figcaption></figure>, <figure><figcaption><div class=\"caption\">Pydantic v2</div></figcaption></figure>, <figure><figcaption><div class=\"caption\">pre-commit</div></figcaption></figure>, <figure><figcaption><div class=\"caption\">License MIT</div></figcaption></figure>, <figure><figcaption><div class=\"caption\">PyPI Downloads</div></figcaption></figure>, <figure><figcaption><div class=\"caption\">Docling Actor</div></figcaption></figure>, <figure><figcaption><div class=\"caption\">Chat with Dosu</div></figcaption></figure>, <figure><figcaption><div class=\"caption\">OpenSSF Best Practices</div></figcaption></figure>, <figure><figcaption><div class=\"caption\">LF AI &amp; Data</div></figcaption></figure>, <p>Docling simplifies document processing, parsing diverse formats — including advanced PDF understanding — and providing seamless integrations with the gen AI ecosystem.</p>]\n",
      "[<h2>Features</h2>, <ul><li>🗂️ Parsing of multiple document formats incl. PDF, DOCX, PPTX, XLSX, HTML, WAV, MP3, images (PNG, TIFF, JPEG, ...), and more</li><li>📑 Advanced PDF understanding incl. page layout, reading order, table structure, code, formulas, image classification, and more</li><li>🧬 Unified, expressive DoclingDocument representation format</li><li>↪️ Various export formats and options, including Markdown, HTML, DocTags and lossless JSON</li><li>🔒 Local execution capabilities for sensitive data and air-gapped environments</li><li>🤖 Plug-and-play integrations incl. LangChain, LlamaIndex, Crew AI &amp; Haystack for agentic AI</li><li>🔍 Extensive OCR support for scanned PDFs and images</li><li>👓 Support of several Visual Language Models (SmolDocling)</li><li>🎙️ Support for Audio with Automatic Speech Recognition (ASR) models</li><li>💻 Simple and convenient CLI</li></ul>]\n",
      "[<h3>Coming soon</h3>, <ul><li>📝 Metadata extraction, including title, authors, references &amp; language</li><li>📝 Chart understanding (Barchart, Piechart, LinePlot, etc)</li><li>📝 Complex chemistry understanding (Molecular structures)</li></ul>]\n",
      "[<h2>Get started</h2>, <p>Concepts</p>, <p>Learn Docling fundamentals</p>, <p>Examples</p>, <p>Try out recipes for various use cases, including conversion, RAG, and more</p>, <p>Integrations</p>, <p>Check out integrations with popular frameworks and tools</p>, <p>Reference</p>, <p>See more API details</p>]\n",
      "[<h2>Live assistant</h2>, <p>Do you want to leverage the power of AI and get a live support on Docling?</p>, <p>Try out the Chat with Dosu functionalities provided by our friends at Dosu.</p>, <figure><figcaption><div class=\"caption\">Chat with Dosu</div></figcaption></figure>]\n",
      "[<h2>LF AI &amp; Data</h2>, <p>Docling is hosted as a project in the LF AI &amp; Data Foundation.</p>]\n",
      "[<h3>IBM ❤️ Open Source AI</h3>, <p>The project was started by the AI for knowledge team at IBM Research Zurich.</p>, <p>Back to top</p>, <p>Next</p>, <p>Installation</p>, <p>Made with</p>, <p>Material for MkDocs</p>]\n"
     ]
    }
   ],
   "execution_count": 30
  },
  {
   "metadata": {
    "ExecuteTime": {
     "end_time": "2025-08-12T03:38:59.338547Z",
     "start_time": "2025-08-12T03:38:59.326643Z"
    }
   },
   "cell_type": "code",
   "source": [
    "def print_list(l: list):\n",
    "    for i, e in enumerate(l):\n",
    "        print(f'{\"-\"*30}{i}{\"-\"*30}')\n",
    "        pprint.pprint(e)"
   ],
   "id": "93c6ec89503a15d",
   "outputs": [],
   "execution_count": 27
  },
  {
   "metadata": {
    "ExecuteTime": {
     "end_time": "2025-08-12T03:39:00.950678Z",
     "start_time": "2025-08-12T03:39:00.928566Z"
    }
   },
   "cell_type": "code",
   "source": "print_list(o_chunks)",
   "id": "b2e98edf9ac9c649",
   "outputs": [
    {
     "name": "stdout",
     "output_type": "stream",
     "text": [
      "------------------------------0------------------------------\n",
      "DocChunk(text='Docling\\nDS4SD%2Fdocling | Trendshift\\narXiv\\nPyPI version\\nPyPI - Python Version\\nuv\\nRuff\\nPydantic v2\\npre-commit\\nLicense MIT\\nPyPI Downloads\\nDocling Actor\\nChat with Dosu\\nOpenSSF Best Practices\\nLF AI & Data\\nDocling simplifies document processing, parsing diverse formats — including advanced PDF understanding — and providing seamless integrations with the gen AI ecosystem.', meta=DocMeta(schema_name='docling_core.transforms.chunker.DocMeta', version='1.0.0', doc_items=[DocItem(self_ref='#/texts/24', parent=RefItem(cref='#/body'), children=[], content_layer=<ContentLayer.BODY: 'body'>, label=<DocItemLabel.CAPTION: 'caption'>, prov=[]), DocItem(self_ref='#/texts/25', parent=RefItem(cref='#/body'), children=[], content_layer=<ContentLayer.BODY: 'body'>, label=<DocItemLabel.CAPTION: 'caption'>, prov=[]), DocItem(self_ref='#/texts/26', parent=RefItem(cref='#/body'), children=[], content_layer=<ContentLayer.BODY: 'body'>, label=<DocItemLabel.CAPTION: 'caption'>, prov=[]), DocItem(self_ref='#/texts/27', parent=RefItem(cref='#/body'), children=[], content_layer=<ContentLayer.BODY: 'body'>, label=<DocItemLabel.CAPTION: 'caption'>, prov=[]), DocItem(self_ref='#/texts/28', parent=RefItem(cref='#/body'), children=[], content_layer=<ContentLayer.BODY: 'body'>, label=<DocItemLabel.CAPTION: 'caption'>, prov=[]), DocItem(self_ref='#/texts/29', parent=RefItem(cref='#/body'), children=[], content_layer=<ContentLayer.BODY: 'body'>, label=<DocItemLabel.CAPTION: 'caption'>, prov=[]), DocItem(self_ref='#/texts/30', parent=RefItem(cref='#/body'), children=[], content_layer=<ContentLayer.BODY: 'body'>, label=<DocItemLabel.CAPTION: 'caption'>, prov=[]), DocItem(self_ref='#/texts/31', parent=RefItem(cref='#/body'), children=[], content_layer=<ContentLayer.BODY: 'body'>, label=<DocItemLabel.CAPTION: 'caption'>, prov=[]), DocItem(self_ref='#/texts/32', parent=RefItem(cref='#/body'), children=[], content_layer=<ContentLayer.BODY: 'body'>, label=<DocItemLabel.CAPTION: 'caption'>, prov=[]), DocItem(self_ref='#/texts/33', parent=RefItem(cref='#/body'), children=[], content_layer=<ContentLayer.BODY: 'body'>, label=<DocItemLabel.CAPTION: 'caption'>, prov=[]), DocItem(self_ref='#/texts/34', parent=RefItem(cref='#/body'), children=[], content_layer=<ContentLayer.BODY: 'body'>, label=<DocItemLabel.CAPTION: 'caption'>, prov=[]), DocItem(self_ref='#/texts/35', parent=RefItem(cref='#/body'), children=[], content_layer=<ContentLayer.BODY: 'body'>, label=<DocItemLabel.CAPTION: 'caption'>, prov=[]), DocItem(self_ref='#/texts/36', parent=RefItem(cref='#/body'), children=[], content_layer=<ContentLayer.BODY: 'body'>, label=<DocItemLabel.CAPTION: 'caption'>, prov=[]), DocItem(self_ref='#/texts/37', parent=RefItem(cref='#/body'), children=[], content_layer=<ContentLayer.BODY: 'body'>, label=<DocItemLabel.CAPTION: 'caption'>, prov=[]), DocItem(self_ref='#/texts/38', parent=RefItem(cref='#/body'), children=[], content_layer=<ContentLayer.BODY: 'body'>, label=<DocItemLabel.CAPTION: 'caption'>, prov=[]), DocItem(self_ref='#/texts/39', parent=RefItem(cref='#/texts/23'), children=[], content_layer=<ContentLayer.BODY: 'body'>, label=<DocItemLabel.TEXT: 'text'>, prov=[])], headings=['Docling'], captions=None, origin=DocumentOrigin(mimetype='text/html', binary_hash=2461018667905245568, filename='docling', uri=None)))\n",
      "------------------------------1------------------------------\n",
      "DocChunk(text='- 🗂️ Parsing of multiple document formats incl. PDF, DOCX, PPTX, XLSX, HTML, WAV, MP3, images (PNG, TIFF, JPEG, ...), and more\\n- 📑 Advanced PDF understanding incl. page layout, reading order, table structure, code, formulas, image classification, and more\\n- 🧬 Unified, expressive DoclingDocument representation format\\n- ↪️ Various export formats and options, including Markdown, HTML, DocTags and lossless JSON\\n- 🔒 Local execution capabilities for sensitive data and air-gapped environments\\n- 🤖 Plug-and-play integrations incl. LangChain, LlamaIndex, Crew AI & Haystack for agentic AI\\n- 🔍 Extensive OCR support for scanned PDFs and images\\n- 👓 Support of several Visual Language Models (SmolDocling)\\n- 🎙️ Support for Audio with Automatic Speech Recognition (ASR) models\\n- 💻 Simple and convenient CLI', meta=DocMeta(schema_name='docling_core.transforms.chunker.DocMeta', version='1.0.0', doc_items=[DocItem(self_ref='#/texts/41', parent=RefItem(cref='#/groups/4'), children=[], content_layer=<ContentLayer.BODY: 'body'>, label=<DocItemLabel.LIST_ITEM: 'list_item'>, prov=[]), DocItem(self_ref='#/texts/42', parent=RefItem(cref='#/groups/4'), children=[], content_layer=<ContentLayer.BODY: 'body'>, label=<DocItemLabel.LIST_ITEM: 'list_item'>, prov=[]), DocItem(self_ref='#/texts/43', parent=RefItem(cref='#/groups/4'), children=[], content_layer=<ContentLayer.BODY: 'body'>, label=<DocItemLabel.LIST_ITEM: 'list_item'>, prov=[]), DocItem(self_ref='#/texts/44', parent=RefItem(cref='#/groups/4'), children=[], content_layer=<ContentLayer.BODY: 'body'>, label=<DocItemLabel.LIST_ITEM: 'list_item'>, prov=[]), DocItem(self_ref='#/texts/45', parent=RefItem(cref='#/groups/4'), children=[], content_layer=<ContentLayer.BODY: 'body'>, label=<DocItemLabel.LIST_ITEM: 'list_item'>, prov=[]), DocItem(self_ref='#/texts/46', parent=RefItem(cref='#/groups/4'), children=[], content_layer=<ContentLayer.BODY: 'body'>, label=<DocItemLabel.LIST_ITEM: 'list_item'>, prov=[]), DocItem(self_ref='#/texts/47', parent=RefItem(cref='#/groups/4'), children=[], content_layer=<ContentLayer.BODY: 'body'>, label=<DocItemLabel.LIST_ITEM: 'list_item'>, prov=[]), DocItem(self_ref='#/texts/48', parent=RefItem(cref='#/groups/4'), children=[], content_layer=<ContentLayer.BODY: 'body'>, label=<DocItemLabel.LIST_ITEM: 'list_item'>, prov=[]), DocItem(self_ref='#/texts/49', parent=RefItem(cref='#/groups/4'), children=[], content_layer=<ContentLayer.BODY: 'body'>, label=<DocItemLabel.LIST_ITEM: 'list_item'>, prov=[]), DocItem(self_ref='#/texts/50', parent=RefItem(cref='#/groups/4'), children=[], content_layer=<ContentLayer.BODY: 'body'>, label=<DocItemLabel.LIST_ITEM: 'list_item'>, prov=[])], headings=['Docling', 'Features'], captions=None, origin=DocumentOrigin(mimetype='text/html', binary_hash=2461018667905245568, filename='docling', uri=None)))\n",
      "------------------------------2------------------------------\n",
      "DocChunk(text='- 📝 Metadata extraction, including title, authors, references & language\\n- 📝 Chart understanding (Barchart, Piechart, LinePlot, etc)\\n- 📝 Complex chemistry understanding (Molecular structures)', meta=DocMeta(schema_name='docling_core.transforms.chunker.DocMeta', version='1.0.0', doc_items=[DocItem(self_ref='#/texts/52', parent=RefItem(cref='#/groups/5'), children=[], content_layer=<ContentLayer.BODY: 'body'>, label=<DocItemLabel.LIST_ITEM: 'list_item'>, prov=[]), DocItem(self_ref='#/texts/53', parent=RefItem(cref='#/groups/5'), children=[], content_layer=<ContentLayer.BODY: 'body'>, label=<DocItemLabel.LIST_ITEM: 'list_item'>, prov=[]), DocItem(self_ref='#/texts/54', parent=RefItem(cref='#/groups/5'), children=[], content_layer=<ContentLayer.BODY: 'body'>, label=<DocItemLabel.LIST_ITEM: 'list_item'>, prov=[])], headings=['Docling', 'Features', 'Coming soon'], captions=None, origin=DocumentOrigin(mimetype='text/html', binary_hash=2461018667905245568, filename='docling', uri=None)))\n",
      "------------------------------3------------------------------\n",
      "DocChunk(text='Concepts\\nLearn Docling fundamentals\\nExamples\\nTry out recipes for various use cases, including conversion, RAG, and more\\nIntegrations\\nCheck out integrations with popular frameworks and tools\\nReference\\nSee more API details', meta=DocMeta(schema_name='docling_core.transforms.chunker.DocMeta', version='1.0.0', doc_items=[DocItem(self_ref='#/texts/56', parent=RefItem(cref='#/texts/55'), children=[], content_layer=<ContentLayer.BODY: 'body'>, label=<DocItemLabel.TEXT: 'text'>, prov=[]), DocItem(self_ref='#/texts/57', parent=RefItem(cref='#/texts/55'), children=[], content_layer=<ContentLayer.BODY: 'body'>, label=<DocItemLabel.TEXT: 'text'>, prov=[]), DocItem(self_ref='#/texts/58', parent=RefItem(cref='#/texts/55'), children=[], content_layer=<ContentLayer.BODY: 'body'>, label=<DocItemLabel.TEXT: 'text'>, prov=[]), DocItem(self_ref='#/texts/59', parent=RefItem(cref='#/texts/55'), children=[], content_layer=<ContentLayer.BODY: 'body'>, label=<DocItemLabel.TEXT: 'text'>, prov=[]), DocItem(self_ref='#/texts/60', parent=RefItem(cref='#/texts/55'), children=[], content_layer=<ContentLayer.BODY: 'body'>, label=<DocItemLabel.TEXT: 'text'>, prov=[]), DocItem(self_ref='#/texts/61', parent=RefItem(cref='#/texts/55'), children=[], content_layer=<ContentLayer.BODY: 'body'>, label=<DocItemLabel.TEXT: 'text'>, prov=[]), DocItem(self_ref='#/texts/62', parent=RefItem(cref='#/texts/55'), children=[], content_layer=<ContentLayer.BODY: 'body'>, label=<DocItemLabel.TEXT: 'text'>, prov=[]), DocItem(self_ref='#/texts/63', parent=RefItem(cref='#/texts/55'), children=[], content_layer=<ContentLayer.BODY: 'body'>, label=<DocItemLabel.TEXT: 'text'>, prov=[])], headings=['Docling', 'Get started'], captions=None, origin=DocumentOrigin(mimetype='text/html', binary_hash=2461018667905245568, filename='docling', uri=None)))\n",
      "------------------------------4------------------------------\n",
      "DocChunk(text='Do you want to leverage the power of AI and get a live support on Docling?\\nTry out the Chat with Dosu functionalities provided by our friends at Dosu.\\nChat with Dosu', meta=DocMeta(schema_name='docling_core.transforms.chunker.DocMeta', version='1.0.0', doc_items=[DocItem(self_ref='#/texts/65', parent=RefItem(cref='#/texts/64'), children=[], content_layer=<ContentLayer.BODY: 'body'>, label=<DocItemLabel.TEXT: 'text'>, prov=[]), DocItem(self_ref='#/texts/66', parent=RefItem(cref='#/texts/64'), children=[], content_layer=<ContentLayer.BODY: 'body'>, label=<DocItemLabel.TEXT: 'text'>, prov=[]), DocItem(self_ref='#/texts/67', parent=RefItem(cref='#/body'), children=[], content_layer=<ContentLayer.BODY: 'body'>, label=<DocItemLabel.CAPTION: 'caption'>, prov=[])], headings=['Docling', 'Live assistant'], captions=None, origin=DocumentOrigin(mimetype='text/html', binary_hash=2461018667905245568, filename='docling', uri=None)))\n",
      "------------------------------5------------------------------\n",
      "DocChunk(text='Docling is hosted as a project in the LF AI & Data Foundation.', meta=DocMeta(schema_name='docling_core.transforms.chunker.DocMeta', version='1.0.0', doc_items=[DocItem(self_ref='#/texts/69', parent=RefItem(cref='#/texts/68'), children=[], content_layer=<ContentLayer.BODY: 'body'>, label=<DocItemLabel.TEXT: 'text'>, prov=[])], headings=['Docling', 'LF AI & Data'], captions=None, origin=DocumentOrigin(mimetype='text/html', binary_hash=2461018667905245568, filename='docling', uri=None)))\n",
      "------------------------------6------------------------------\n",
      "DocChunk(text='The project was started by the AI for knowledge team at IBM Research Zurich.\\nBack to top\\nNext\\nInstallation\\nMade with\\nMaterial for MkDocs', meta=DocMeta(schema_name='docling_core.transforms.chunker.DocMeta', version='1.0.0', doc_items=[DocItem(self_ref='#/texts/71', parent=RefItem(cref='#/texts/70'), children=[], content_layer=<ContentLayer.BODY: 'body'>, label=<DocItemLabel.TEXT: 'text'>, prov=[]), DocItem(self_ref='#/texts/72', parent=RefItem(cref='#/texts/70'), children=[], content_layer=<ContentLayer.BODY: 'body'>, label=<DocItemLabel.TEXT: 'text'>, prov=[]), DocItem(self_ref='#/texts/73', parent=RefItem(cref='#/texts/70'), children=[], content_layer=<ContentLayer.BODY: 'body'>, label=<DocItemLabel.TEXT: 'text'>, prov=[]), DocItem(self_ref='#/texts/74', parent=RefItem(cref='#/texts/70'), children=[], content_layer=<ContentLayer.BODY: 'body'>, label=<DocItemLabel.TEXT: 'text'>, prov=[]), DocItem(self_ref='#/texts/75', parent=RefItem(cref='#/texts/70'), children=[], content_layer=<ContentLayer.BODY: 'body'>, label=<DocItemLabel.TEXT: 'text'>, prov=[]), DocItem(self_ref='#/texts/76', parent=RefItem(cref='#/texts/70'), children=[], content_layer=<ContentLayer.BODY: 'body'>, label=<DocItemLabel.TEXT: 'text'>, prov=[])], headings=['Docling', 'LF AI & Data', 'IBM ❤️ Open Source AI'], captions=None, origin=DocumentOrigin(mimetype='text/html', binary_hash=2461018667905245568, filename='docling', uri=None)))\n"
     ]
    }
   ],
   "execution_count": 28
  }
 ],
 "metadata": {
  "kernelspec": {
   "display_name": "Python 3",
   "language": "python",
   "name": "python3"
  },
  "language_info": {
   "codemirror_mode": {
    "name": "ipython",
    "version": 2
   },
   "file_extension": ".py",
   "mimetype": "text/x-python",
   "name": "python",
   "nbconvert_exporter": "python",
   "pygments_lexer": "ipython2",
   "version": "2.7.6"
  }
 },
 "nbformat": 4,
 "nbformat_minor": 5
}
